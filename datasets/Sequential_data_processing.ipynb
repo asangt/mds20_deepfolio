{
  "nbformat": 4,
  "nbformat_minor": 0,
  "metadata": {
    "accelerator": "GPU",
    "colab": {
      "name": "Sequential_data_processing.ipynb",
      "provenance": [],
      "collapsed_sections": []
    },
    "kernelspec": {
      "display_name": "Python 3",
      "name": "python3"
    }
  },
  "cells": [
    {
      "cell_type": "code",
      "metadata": {
        "colab": {
          "base_uri": "https://localhost:8080/"
        },
        "id": "wngLZdPUgCLs",
        "outputId": "7d959331-95b2-4f61-e7a0-95274d02e2af"
      },
      "source": [
        "import pandas as pd\n",
        "import numpy as np\n",
        "from IPython.display import clear_output\n",
        "from google.colab import drive\n",
        "import matplotlib.pyplot as plt\n",
        "drive.mount('/content/drive')"
      ],
      "execution_count": 1,
      "outputs": [
        {
          "output_type": "stream",
          "text": [
            "Mounted at /content/drive\n"
          ],
          "name": "stdout"
        }
      ]
    },
    {
      "cell_type": "code",
      "metadata": {
        "id": "nzM-Y1zv8cRT"
      },
      "source": [
        "currency_type = 'EOS'"
      ],
      "execution_count": 2,
      "outputs": []
    },
    {
      "cell_type": "code",
      "metadata": {
        "colab": {
          "base_uri": "https://localhost:8080/"
        },
        "id": "alQtLGsODqVm",
        "outputId": "0150caf8-d860-4f27-f9d9-0ab5823228f6"
      },
      "source": [
        "for n in [0, 1]:\n",
        "  LOB = []\n",
        "  for k in range(n*6, (n+1)*6):\n",
        "    data = pd.read_csv('/content/drive/MyDrive/Sequential_datasets_2/' + currency_type + '/'+str(k)+'.csv')\n",
        "    data = data[['T', 'm', 'p']]\n",
        "\n",
        "    temp_ask = []\n",
        "\n",
        "    temp_bid = []\n",
        "\n",
        "    LOB_new = []\n",
        "    for i in data.index:\n",
        "\n",
        "      if data['m'][i] == True and len(temp_bid) < 10:\n",
        "        temp_bid += [data['p'][i]]\n",
        "        if len(temp_bid) == 1:\n",
        "          time_1 = data['T'][i]\n",
        "\n",
        "      if data['m'][i] == False and len(temp_ask) < 10:\n",
        "        temp_ask += [data['p'][i]]\n",
        "        if len(temp_ask) == 1:\n",
        "          time_2 = data['T'][i]\n",
        "      if len(temp_bid) == 10 and len(temp_ask) == 10:\n",
        "        if time_1 < time_2:\n",
        "          time = time_1\n",
        "        else:\n",
        "          time = time_2\n",
        "        LOB_new += [[time, sorted(temp_bid), sorted(temp_ask, reverse = True)]]\n",
        "        temp_ask = []\n",
        "        temp_bid = []\n",
        "    LOB += LOB_new\n",
        "    print(len(LOB))\n",
        "  LOB = np.array(LOB)\n",
        "  np.save('/content/drive/MyDrive/Sequential_datasets_2/' + currency_type + '/LOB_'+str(n+1), LOB)\n"
      ],
      "execution_count": 3,
      "outputs": [
        {
          "output_type": "stream",
          "text": [
            "44520\n",
            "95763\n",
            "141569\n",
            "211434\n",
            "303188\n",
            "412366\n",
            "85893\n",
            "119500\n",
            "168402\n",
            "216547\n",
            "264066\n",
            "287524\n"
          ],
          "name": "stdout"
        }
      ]
    },
    {
      "cell_type": "code",
      "metadata": {
        "id": "bMt0JPqPpGuP"
      },
      "source": [
        "LOB_1 = np.load('/content/drive/MyDrive/Sequential_datasets_2/' + currency_type + '/LOB_1.npy', allow_pickle= True)\n",
        "LOB_2 = np.load('/content/drive/MyDrive/Sequential_datasets_2/' + currency_type + '/LOB_2.npy', allow_pickle= True)"
      ],
      "execution_count": 4,
      "outputs": []
    },
    {
      "cell_type": "code",
      "metadata": {
        "id": "msZ69WuT4qoB"
      },
      "source": [
        "LOB = np.concatenate((LOB_1, LOB_2), axis = 0)"
      ],
      "execution_count": 5,
      "outputs": []
    },
    {
      "cell_type": "code",
      "metadata": {
        "id": "-_2OcaJryCDW"
      },
      "source": [
        "new_array = []\n",
        "for i in LOB:\n",
        "  new_array += [[i[0], np.mean([i[1][0], i[2][0]])]]\n",
        "new_array = np.array(new_array)\n",
        "\n",
        "T = new_array[:,:1]\n",
        "p = new_array[:,1:]\n",
        "inter_event = T[1:] - T[:-1]\n",
        "since_last_event = np.cumsum(inter_event).reshape((-1, 1))\n",
        "price_change = p[1:] - p[:-1]\n",
        "\n",
        "label = []\n",
        "for i in price_change:\n",
        "  if i > 0:\n",
        "    label += [1]\n",
        "  else:\n",
        "    label += [0]\n",
        "label = np.array(label).reshape(-1, 1)\n",
        "dataset = np.concatenate((inter_event, since_last_event, label), axis = 1)"
      ],
      "execution_count": 6,
      "outputs": []
    },
    {
      "cell_type": "code",
      "metadata": {
        "id": "Hh35P6317nC8"
      },
      "source": [
        "np.save('/content/drive/MyDrive/Sequential_datasets_2/' + currency_type + '/dataset_' + currency_type, dataset)"
      ],
      "execution_count": 7,
      "outputs": []
    },
    {
      "cell_type": "code",
      "metadata": {
        "colab": {
          "base_uri": "https://localhost:8080/"
        },
        "id": "fdHr55UC7Vzh",
        "outputId": "4fb6f543-9541-44a2-f9f1-9dddd82f6721"
      },
      "source": [
        "np.load('/content/drive/MyDrive/Sequential_datasets_2/' + currency_type + '/dataset_' + currency_type + '.npy', allow_pickle= True)"
      ],
      "execution_count": 8,
      "outputs": [
        {
          "output_type": "execute_result",
          "data": {
            "text/plain": [
              "array([[1.75980000e+04, 1.75980000e+04, 1.00000000e+00],\n",
              "       [5.69140000e+04, 7.45120000e+04, 0.00000000e+00],\n",
              "       [1.14280000e+04, 8.59400000e+04, 0.00000000e+00],\n",
              "       ...,\n",
              "       [1.28664000e+05, 3.15327661e+10, 1.00000000e+00],\n",
              "       [1.36213400e+06, 3.15341282e+10, 0.00000000e+00],\n",
              "       [9.90835000e+05, 3.15351190e+10, 1.00000000e+00]])"
            ]
          },
          "metadata": {
            "tags": []
          },
          "execution_count": 8
        }
      ]
    },
    {
      "cell_type": "code",
      "metadata": {
        "id": "aGwyH_qz8ArI"
      },
      "source": [
        ""
      ],
      "execution_count": null,
      "outputs": []
    }
  ]
}
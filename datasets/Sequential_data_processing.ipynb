{
  "nbformat": 4,
  "nbformat_minor": 0,
  "metadata": {
    "accelerator": "GPU",
    "colab": {
      "name": "Sequential_data_processing.ipynb",
      "provenance": [],
      "collapsed_sections": []
    },
    "kernelspec": {
      "display_name": "Python 3",
      "name": "python3"
    }
  },
  "cells": [
    {
      "cell_type": "code",
      "metadata": {
        "colab": {
          "base_uri": "https://localhost:8080/"
        },
        "id": "wngLZdPUgCLs",
        "outputId": "d2d9e68c-45bf-4e5e-d587-3fa6f49adebe"
      },
      "source": [
        "import pandas as pd\n",
        "import numpy as np\n",
        "from IPython.display import clear_output\n",
        "from google.colab import drive\n",
        "import matplotlib.pyplot as plt\n",
        "drive.mount('/content/drive')"
      ],
      "execution_count": 131,
      "outputs": [
        {
          "output_type": "stream",
          "text": [
            "Drive already mounted at /content/drive; to attempt to forcibly remount, call drive.mount(\"/content/drive\", force_remount=True).\n"
          ],
          "name": "stdout"
        }
      ]
    },
    {
      "cell_type": "code",
      "metadata": {
        "id": "nzM-Y1zv8cRT"
      },
      "source": [
        "currency_type = 'ETH'"
      ],
      "execution_count": 132,
      "outputs": []
    },
    {
      "cell_type": "code",
      "metadata": {
        "id": "q6MInh34O9lM"
      },
      "source": [
        "### Code for pure transactions datasets\r\n",
        "\r\n",
        "data = pd.read_csv('/content/drive/MyDrive/Sequential_datasets/' + currency_type + '/'+str(0)+'.csv')\r\n",
        "for k in range(1, 12):\r\n",
        "  data = data.append(pd.read_csv('/content/drive/MyDrive/Sequential_datasets/' + currency_type + '/'+str(k)+'.csv'))\r\n",
        "data['label'] = 0\r\n",
        "data['label'][data['m'] == True] = 1\r\n",
        "times_start = data['T'][:-1].to_numpy()\r\n",
        "times_end = data['T'][1:].to_numpy()\r\n",
        "inter_event = times_end - times_start\r\n",
        "since_start = np.cumsum(inter_event)\r\n",
        "transact_dataset = np.concatenate((since_start.reshape(-1, 1), inter_event.reshape(-1, 1), data['label'][1:].to_numpy().reshape(-1, 1)), axis = 1)\r\n",
        "np.save('/content/drive/MyDrive/Sequential_datasets/' + currency_type + '/transact_dataset_' + currency_type, transact_dataset)"
      ],
      "execution_count": null,
      "outputs": []
    },
    {
      "cell_type": "code",
      "metadata": {
        "id": "alQtLGsODqVm"
      },
      "source": [
        "### Code for LOB transactions datasets\n",
        "for n in [0, 1]:\n",
        "  LOB = []\n",
        "  for k in range(n*6, (n+1)*6):\n",
        "    data = pd.read_csv('/content/drive/MyDrive/Sequential_datasets/' + currency_type + '/'+str(k)+'.csv')\n",
        "    data = data[['T', 'm', 'p']]\n",
        "\n",
        "    temp_ask = []\n",
        "\n",
        "    temp_bid = []\n",
        "\n",
        "    LOB_new = []\n",
        "    for i in data.index:\n",
        "\n",
        "      if data['m'][i] == True and len(temp_bid) < 10:\n",
        "        temp_bid += [data['p'][i]]\n",
        "        if len(temp_bid) == 1:\n",
        "          time_1 = data['T'][i]\n",
        "\n",
        "      if data['m'][i] == False and len(temp_ask) < 10:\n",
        "        temp_ask += [data['p'][i]]\n",
        "        if len(temp_ask) == 1:\n",
        "          time_2 = data['T'][i]\n",
        "      if len(temp_bid) == 10 and len(temp_ask) == 10:\n",
        "        if time_1 < time_2:\n",
        "          time = time_1\n",
        "        else:\n",
        "          time = time_2\n",
        "        LOB_new += [[time, sorted(temp_bid), sorted(temp_ask, reverse = True)]]\n",
        "        temp_ask = []\n",
        "        temp_bid = []\n",
        "    LOB += LOB_new\n",
        "    print(len(LOB))\n",
        "  LOB = np.array(LOB)\n",
        "  np.save('/content/drive/MyDrive/Sequential_datasets/' + currency_type + '/LOB_'+str(n+1), LOB)\n"
      ],
      "execution_count": null,
      "outputs": []
    },
    {
      "cell_type": "code",
      "metadata": {
        "id": "bMt0JPqPpGuP"
      },
      "source": [
        "# Datasets are too massive, devide them into two files\n",
        "LOB_1 = np.load('/content/drive/MyDrive/Sequential_datasets/' + currency_type + '/LOB_1.npy', allow_pickle= True)\n",
        "LOB_2 = np.load('/content/drive/MyDrive/Sequential_datasets/' + currency_type + '/LOB_2.npy', allow_pickle= True)"
      ],
      "execution_count": null,
      "outputs": []
    },
    {
      "cell_type": "code",
      "metadata": {
        "id": "msZ69WuT4qoB"
      },
      "source": [
        "LOB = np.concatenate((LOB_1, LOB_2), axis = 0)"
      ],
      "execution_count": null,
      "outputs": []
    },
    {
      "cell_type": "code",
      "metadata": {
        "id": "-_2OcaJryCDW"
      },
      "source": [
        "### Code for the final form of datasets, with times, inter-event times and types of events\n",
        "new_array = []\n",
        "for i in LOB:\n",
        "  new_array += [[i[0], np.mean([i[1][0], i[2][0]])]]\n",
        "new_array = np.array(new_array)\n",
        "\n",
        "T = new_array[:,:1]\n",
        "p = new_array[:,1:]\n",
        "inter_event = T[1:] - T[:-1]\n",
        "since_last_event = np.cumsum(inter_event).reshape((-1, 1))\n",
        "price_change = p[1:] - p[:-1]\n",
        "\n",
        "label = []\n",
        "for i in price_change:\n",
        "  if i > 0:\n",
        "    label += [1]\n",
        "  else:\n",
        "    label += [0]\n",
        "label = np.array(label).reshape(-1, 1)\n",
        "dataset = np.concatenate((inter_event, since_last_event, label), axis = 1)"
      ],
      "execution_count": null,
      "outputs": []
    },
    {
      "cell_type": "code",
      "metadata": {
        "id": "Hh35P6317nC8"
      },
      "source": [
        "np.save('/content/drive/MyDrive/Sequential_datasets/' + currency_type + '/dataset_' + currency_type, dataset)"
      ],
      "execution_count": null,
      "outputs": []
    },
    {
      "cell_type": "code",
      "metadata": {
        "id": "fdHr55UC7Vzh"
      },
      "source": [
        "dataset = np.load('/content/drive/MyDrive/Sequential_datasets/' + currency_type + '/dataset_' + currency_type + '.npy', allow_pickle= True)"
      ],
      "execution_count": 134,
      "outputs": []
    },
    {
      "cell_type": "code",
      "metadata": {
        "id": "Nkke-K7dnZqR"
      },
      "source": [
        "### Deviding datasets into sequences, 3000 rows in each\r\n",
        "n_batches = int(dataset.shape[0]/3000)\r\n",
        "batched = dataset[:n_batches*3000].reshape(n_batches, 3000, 3)\r\n",
        "\r\n",
        "### Filtering the anomal data\r\n",
        "times = batched[:, :, 0]\r\n",
        "Q1 = np.percentile(times, 25)\r\n",
        "Q3 = np.percentile(times, 75)\r\n",
        "IQR = Q3 - Q1\r\n",
        "\r\n",
        "new_array = np.array([]).reshape(-1, 3000, 3)\r\n",
        "for batch in batched:\r\n",
        "  if all(Q1 - 10*IQR <= batch[:, 0]) and all(batch[:, 0] <= Q3 + 10*IQR):\r\n",
        "      new_array = np.concatenate((new_array, batch.reshape(-1, 3000, 3)), axis = 0)"
      ],
      "execution_count": 135,
      "outputs": []
    },
    {
      "cell_type": "code",
      "metadata": {
        "id": "jXq5j54kJxX9"
      },
      "source": [
        "dataset"
      ],
      "execution_count": null,
      "outputs": []
    },
    {
      "cell_type": "code",
      "metadata": {
        "colab": {
          "base_uri": "https://localhost:8080/"
        },
        "id": "XusLBmIrIhF5",
        "outputId": "dff43385-6dcc-4f99-b9b0-a8a92c9115e5"
      },
      "source": [
        "dataset.shape[0]/3000"
      ],
      "execution_count": null,
      "outputs": [
        {
          "output_type": "execute_result",
          "data": {
            "text/plain": [
              "300.663"
            ]
          },
          "metadata": {
            "tags": []
          },
          "execution_count": 122
        }
      ]
    },
    {
      "cell_type": "code",
      "metadata": {
        "colab": {
          "base_uri": "https://localhost:8080/"
        },
        "id": "-jTHr6bc4kaC",
        "outputId": "1f67684e-d4e5-4467-cd2d-41fcc1002434"
      },
      "source": [
        "batched.shape"
      ],
      "execution_count": null,
      "outputs": [
        {
          "output_type": "execute_result",
          "data": {
            "text/plain": [
              "(300, 3000, 3)"
            ]
          },
          "metadata": {
            "tags": []
          },
          "execution_count": 25
        }
      ]
    },
    {
      "cell_type": "code",
      "metadata": {
        "colab": {
          "base_uri": "https://localhost:8080/"
        },
        "id": "fBtnUq_J5e9l",
        "outputId": "0390f6ca-e3cc-4647-e0cf-8b86d2edf365"
      },
      "source": [
        "new_array.shape"
      ],
      "execution_count": null,
      "outputs": [
        {
          "output_type": "execute_result",
          "data": {
            "text/plain": [
              "(260, 3000, 3)"
            ]
          },
          "metadata": {
            "tags": []
          },
          "execution_count": 26
        }
      ]
    },
    {
      "cell_type": "code",
      "metadata": {
        "colab": {
          "base_uri": "https://localhost:8080/"
        },
        "id": "F7Oq1BUe1ReE",
        "outputId": "843534da-5e28-4c51-fba1-0ecf57f9852e"
      },
      "source": [
        "new_array[:,:,0].max()"
      ],
      "execution_count": null,
      "outputs": [
        {
          "output_type": "execute_result",
          "data": {
            "text/plain": [
              "387982.0"
            ]
          },
          "metadata": {
            "tags": []
          },
          "execution_count": 27
        }
      ]
    },
    {
      "cell_type": "code",
      "metadata": {
        "id": "vRGUyJJI6h5j"
      },
      "source": [
        "np.save('/content/drive/MyDrive/Sequential_datasets_2/' + currency_type + '/dataset_filtered_' + currency_type, new_array)"
      ],
      "execution_count": null,
      "outputs": []
    },
    {
      "cell_type": "code",
      "metadata": {
        "id": "J_LdviGUH0zX"
      },
      "source": [
        ""
      ],
      "execution_count": null,
      "outputs": []
    }
  ]
}
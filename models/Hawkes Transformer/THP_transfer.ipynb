{
  "nbformat": 4,
  "nbformat_minor": 0,
  "metadata": {
    "colab": {
      "name": "THP_transfer.ipynb",
      "provenance": [],
      "collapsed_sections": []
    },
    "kernelspec": {
      "name": "python3",
      "display_name": "Python 3"
    },
    "accelerator": "GPU"
  },
  "cells": [
    {
      "cell_type": "code",
      "metadata": {
        "id": "43trV2ud_-14"
      },
      "source": [
        "import numpy as np\r\n",
        "import matplotlib.pyplot as plt\r\n",
        "\r\n",
        "import torch\r\n",
        "import torch.nn as nn\r\n",
        "import torch.optim as optim\r\n",
        "import torch.utils.data as utils_data"
      ],
      "execution_count": 1,
      "outputs": []
    },
    {
      "cell_type": "code",
      "metadata": {
        "colab": {
          "base_uri": "https://localhost:8080/"
        },
        "id": "3lZL-9eDATfW",
        "outputId": "273e7be3-04da-4a77-817b-4445c38df221"
      },
      "source": [
        "from google.colab import drive\r\n",
        "drive.mount('/content/drive')\r\n",
        "\r\n",
        "from model import HawkesTransformer\r\n",
        "from train import train, run_epoch\r\n",
        "from dataset_wrapper import LobDataset, prepare_datasets\r\n",
        "from utils import fix_seed"
      ],
      "execution_count": 2,
      "outputs": [
        {
          "output_type": "stream",
          "text": [
            "Mounted at /content/drive\n"
          ],
          "name": "stdout"
        }
      ]
    },
    {
      "cell_type": "code",
      "metadata": {
        "id": "gubyuyvLAYWm"
      },
      "source": [
        "WEIGHT_NAME = \"/content/drive/MyDrive/THP weights/model_all.pth\"\r\n",
        "GLOBAL_DEVICE = torch.device('cuda:0' if torch.cuda.is_available() else 'cpu')\r\n",
        "GLOBAL_SEED = 42\r\n",
        "DATA_DIR = \"/content/drive/MyDrive/LOB datasets/\""
      ],
      "execution_count": 8,
      "outputs": []
    },
    {
      "cell_type": "code",
      "metadata": {
        "colab": {
          "base_uri": "https://localhost:8080/"
        },
        "id": "EzZsdDqcAZ6l",
        "outputId": "9e28e7ce-430d-4333-e8e0-6ec85a41b8b8"
      },
      "source": [
        "torch.cuda.empty_cache()\r\n",
        "!nvidia-smi"
      ],
      "execution_count": 4,
      "outputs": [
        {
          "output_type": "stream",
          "text": [
            "Thu Dec 17 14:02:56 2020       \n",
            "+-----------------------------------------------------------------------------+\n",
            "| NVIDIA-SMI 455.45.01    Driver Version: 418.67       CUDA Version: 10.1     |\n",
            "|-------------------------------+----------------------+----------------------+\n",
            "| GPU  Name        Persistence-M| Bus-Id        Disp.A | Volatile Uncorr. ECC |\n",
            "| Fan  Temp  Perf  Pwr:Usage/Cap|         Memory-Usage | GPU-Util  Compute M. |\n",
            "|                               |                      |               MIG M. |\n",
            "|===============================+======================+======================|\n",
            "|   0  Tesla P100-PCIE...  Off  | 00000000:00:04.0 Off |                    0 |\n",
            "| N/A   34C    P0    26W / 250W |     10MiB / 16280MiB |      0%      Default |\n",
            "|                               |                      |                 ERR! |\n",
            "+-------------------------------+----------------------+----------------------+\n",
            "                                                                               \n",
            "+-----------------------------------------------------------------------------+\n",
            "| Processes:                                                                  |\n",
            "|  GPU   GI   CI        PID   Type   Process name                  GPU Memory |\n",
            "|        ID   ID                                                   Usage      |\n",
            "|=============================================================================|\n",
            "|  No running processes found                                                 |\n",
            "+-----------------------------------------------------------------------------+\n"
          ],
          "name": "stdout"
        }
      ]
    },
    {
      "cell_type": "code",
      "metadata": {
        "id": "cCtU8gbLAsly"
      },
      "source": [
        "xlm_data = np.load(DATA_DIR + \"XLM.npy\")\r\n",
        "\r\n",
        "test_dataset = LobDataset(xlm_data, slice_inputs=False)\r\n",
        "test_loader = utils_data.DataLoader(test_dataset, batch_size=5, shuffle=False)"
      ],
      "execution_count": 16,
      "outputs": []
    },
    {
      "cell_type": "code",
      "metadata": {
        "colab": {
          "base_uri": "https://localhost:8080/"
        },
        "id": "6Lck4sVGBO9q",
        "outputId": "7d0c3c5a-898c-45bc-f99b-e0b54903f4a8"
      },
      "source": [
        "model = HawkesTransformer(2, GLOBAL_DEVICE, 512, 4, 1024, 4, 0.1, 'relu').to(GLOBAL_DEVICE)\r\n",
        "model.load_state_dict(torch.load(WEIGHT_NAME))"
      ],
      "execution_count": 9,
      "outputs": [
        {
          "output_type": "execute_result",
          "data": {
            "text/plain": [
              "<All keys matched successfully>"
            ]
          },
          "metadata": {
            "tags": []
          },
          "execution_count": 9
        }
      ]
    },
    {
      "cell_type": "code",
      "metadata": {
        "colab": {
          "base_uri": "https://localhost:8080/"
        },
        "id": "9M9CRjlhA2f8",
        "outputId": "b43993c2-0ee5-4e46-88dc-a1fc211add68"
      },
      "source": [
        "model.eval()\r\n",
        "test_ll, test_mse, test_ce, test_accuracy = run_epoch(model, test_loader, GLOBAL_DEVICE)\r\n",
        "\r\n",
        "print(\"Test Log-Likelihood:\", test_ll)\r\n",
        "print(\"Test RMSE:\", np.sqrt(test_mse))\r\n",
        "print(\"Test CrossEntropy:\", test_ce)\r\n",
        "print(\"Test accuracy:\", test_accuracy)"
      ],
      "execution_count": 17,
      "outputs": [
        {
          "output_type": "stream",
          "text": [
            "Test Log-Likelihood: -5.966295673076923\n",
            "Test RMSE: 115.42386771575497\n",
            "Test CrossEntropy: 0.6113792337830559\n",
            "Test accuracy: 0.7031728524892913\n"
          ],
          "name": "stdout"
        }
      ]
    }
  ]
}
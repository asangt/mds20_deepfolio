{
  "nbformat": 4,
  "nbformat_minor": 0,
  "metadata": {
    "colab": {
      "name": "THP_param_tuning.ipynb",
      "provenance": [],
      "collapsed_sections": []
    },
    "kernelspec": {
      "name": "python3",
      "display_name": "Python 3"
    },
    "accelerator": "GPU"
  },
  "cells": [
    {
      "cell_type": "code",
      "metadata": {
        "id": "fCkzitlqwNP1"
      },
      "source": [
        "import numpy as np\r\n",
        "import matplotlib.pyplot as plt\r\n",
        "\r\n",
        "import torch\r\n",
        "import torch.nn as nn\r\n",
        "import torch.optim as optim\r\n",
        "import torch.utils.data as utils_data"
      ],
      "execution_count": 1,
      "outputs": []
    },
    {
      "cell_type": "code",
      "metadata": {
        "colab": {
          "base_uri": "https://localhost:8080/"
        },
        "id": "r_j3nx-nx990",
        "outputId": "7eaf1d28-6285-4342-b942-f09a918d8241"
      },
      "source": [
        "from google.colab import drive\r\n",
        "drive.mount('/content/drive')\r\n",
        "\r\n",
        "from model import HawkesTransformer\r\n",
        "from train import train, run_epoch\r\n",
        "from dataset_wrapper import LobDataset, prepare_datasets\r\n",
        "from utils import fix_seed"
      ],
      "execution_count": 2,
      "outputs": [
        {
          "output_type": "stream",
          "text": [
            "Drive already mounted at /content/drive; to attempt to forcibly remount, call drive.mount(\"/content/drive\", force_remount=True).\n"
          ],
          "name": "stdout"
        }
      ]
    },
    {
      "cell_type": "code",
      "metadata": {
        "id": "Jd8BXu83yrCC"
      },
      "source": [
        "TRAIN_MODEL = True # set to False if you wish to use weights\r\n",
        "WEIGHT_NAME = None # change if you wish to upload existing weights (without pth)\r\n",
        "GLOBAL_DEVICE = torch.device('cuda:0' if torch.cuda.is_available() else 'cpu')\r\n",
        "GLOBAL_SEED = 42\r\n",
        "DATA_DIR = \"/content/drive/MyDrive/LOB datasets/\""
      ],
      "execution_count": 3,
      "outputs": []
    },
    {
      "cell_type": "code",
      "metadata": {
        "colab": {
          "base_uri": "https://localhost:8080/"
        },
        "id": "7eo_1sYiysVV",
        "outputId": "b838a73b-3e8c-4469-b1f6-c63e9ad2e29b"
      },
      "source": [
        "torch.cuda.empty_cache()\r\n",
        "!nvidia-smi"
      ],
      "execution_count": 4,
      "outputs": [
        {
          "output_type": "stream",
          "text": [
            "Wed Dec 16 14:23:21 2020       \n",
            "+-----------------------------------------------------------------------------+\n",
            "| NVIDIA-SMI 455.45.01    Driver Version: 418.67       CUDA Version: 10.1     |\n",
            "|-------------------------------+----------------------+----------------------+\n",
            "| GPU  Name        Persistence-M| Bus-Id        Disp.A | Volatile Uncorr. ECC |\n",
            "| Fan  Temp  Perf  Pwr:Usage/Cap|         Memory-Usage | GPU-Util  Compute M. |\n",
            "|                               |                      |               MIG M. |\n",
            "|===============================+======================+======================|\n",
            "|   0  Tesla V100-SXM2...  Off  | 00000000:00:04.0 Off |                    0 |\n",
            "| N/A   39C    P0    46W / 300W |     10MiB / 16130MiB |      0%      Default |\n",
            "|                               |                      |                 ERR! |\n",
            "+-------------------------------+----------------------+----------------------+\n",
            "                                                                               \n",
            "+-----------------------------------------------------------------------------+\n",
            "| Processes:                                                                  |\n",
            "|  GPU   GI   CI        PID   Type   Process name                  GPU Memory |\n",
            "|        ID   ID                                                   Usage      |\n",
            "|=============================================================================|\n",
            "|  No running processes found                                                 |\n",
            "+-----------------------------------------------------------------------------+\n"
          ],
          "name": "stdout"
        }
      ]
    },
    {
      "cell_type": "code",
      "metadata": {
        "id": "Kz6hfH31yttp"
      },
      "source": [
        "eth_data = np.load(DATA_DIR + \"ETH.npy\")\r\n",
        "\r\n",
        "train_size, val_size = 0.6, 0.2\r\n",
        "train_part, val_part = int(train_size * len(eth_data)), int(val_size * len(eth_data))\r\n",
        "train_dataset, val_dataset, test_dataset = LobDataset(eth_data[:train_part], slice_inputs=False),\\\r\n",
        "                                           LobDataset(eth_data[train_part:train_part + val_part], slice_inputs=False),\\\r\n",
        "                                           LobDataset(eth_data[train_part + val_part:], slice_inputs=False)\r\n",
        "\r\n",
        "train_loader, val_loader, test_loader = utils_data.DataLoader(train_dataset, batch_size=5, shuffle=True),\\\r\n",
        "                                        utils_data.DataLoader(val_dataset, batch_size=5, shuffle=False),\\\r\n",
        "                                        utils_data.DataLoader(val_dataset, batch_size=5, shuffle=False)"
      ],
      "execution_count": 5,
      "outputs": []
    },
    {
      "cell_type": "code",
      "metadata": {
        "colab": {
          "base_uri": "https://localhost:8080/"
        },
        "id": "S38Jt_kG0_4w",
        "outputId": "f6125fbe-8195-4c31-d965-d95af39c2e76"
      },
      "source": [
        "from itertools import product\r\n",
        "\r\n",
        "params = {\r\n",
        "    'd_model' : {64, 256, 512},\r\n",
        "    'n_heads' : {2, 4},\r\n",
        "    'dim_feedforward' : {512, 1024}\r\n",
        "}\r\n",
        "\r\n",
        "best_loss = float('inf')\r\n",
        "best_params = {}\r\n",
        "for param in product(*params.values()):\r\n",
        "    fix_seed(GLOBAL_SEED)\r\n",
        "    model = HawkesTransformer(2, GLOBAL_DEVICE, n_layers=4, dropout=0.1, activation='relu', **dict(zip(params, param))).to(GLOBAL_DEVICE)\r\n",
        "\r\n",
        "    optimizer = optim.Adam(model.parameters(), lr=1e-4, eps=1e-5, weight_decay=1e-4)\r\n",
        "    scheduler = optim.lr_scheduler.ReduceLROnPlateau(optimizer, factor=0.5, threshold=0.001, patience=10, verbose=True)\r\n",
        "    n_epochs  = 30\r\n",
        "\r\n",
        "    train_history, val_history = train(model, n_epochs, optimizer, train_loader, val_loader, scheduler, GLOBAL_DEVICE, verbose=True, freq=10,\\\r\n",
        "                                       early_stopping=False, patience=15, checkpoint=True, cp_name='model_eth')\r\n",
        "    ll_loss, tp_loss, ec_loss, accuracy = run_epoch(model, val_loader, GLOBAL_DEVICE)\r\n",
        "    val_loss = -ll_loss + tp_loss + ec_loss\r\n",
        "    if val_loss < best_loss:\r\n",
        "        best_loss = val_loss\r\n",
        "        best_params = param"
      ],
      "execution_count": 6,
      "outputs": [
        {
          "output_type": "stream",
          "text": [
            "[ Epoch 10 ]\n",
            "(Training)     log-likelihood: -3.8115910665133836, RMSE: 17.563193115976368, CE: 0.6025968426505763, accuracy: 0.7140302041608806\n",
            "(Validation)   log-likelihood: -4.078514905753968, RMSE: 21.262598958049523, CE: 0.6070271966895712, accuracy: 0.7052922402705664\n",
            "Time elapsed: 69.27 s\n",
            "[ Epoch 20 ]\n",
            "(Training)     log-likelihood: -3.804102891366693, RMSE: 15.731807332554105, CE: 0.6025736263580311, accuracy: 0.7140291489568252\n",
            "(Validation)   log-likelihood: -4.073759176587302, RMSE: 18.954971752222853, CE: 0.6073017673798012, accuracy: 0.7052922402705664\n",
            "Time elapsed: 138.52 s\n",
            "[ Epoch 30 ]\n",
            "(Training)     log-likelihood: -3.797431189428402, RMSE: 14.992630165647931, CE: 0.6010018450449003, accuracy: 0.7140333697730468\n",
            "(Validation)   log-likelihood: -4.061077132936508, RMSE: 17.724484938760195, CE: 0.6067869225257626, accuracy: 0.7052922402705664\n",
            "Time elapsed: 207.76 s\n",
            "[ Epoch 10 ]\n",
            "(Training)     log-likelihood: -3.8182498341491957, RMSE: 17.44105237263555, CE: 0.6022028777339513, accuracy: 0.7140344249771021\n",
            "(Validation)   log-likelihood: -4.045542683531746, RMSE: 21.175285383257947, CE: 0.6067593618755855, accuracy: 0.7052922402705664\n",
            "Time elapsed: 71.96 s\n",
            "[ Epoch 20 ]\n",
            "(Training)     log-likelihood: -3.8069802884773867, RMSE: 15.609017524374696, CE: 0.601346815363659, accuracy: 0.7140333697730468\n",
            "(Validation)   log-likelihood: -4.043089732142857, RMSE: 18.793421846781765, CE: 0.6069502799296194, accuracy: 0.7052922402705664\n",
            "Time elapsed: 143.95 s\n",
            "[ Epoch 30 ]\n",
            "(Training)     log-likelihood: -3.7989678270042195, RMSE: 14.946554717747262, CE: 0.6003295596251378, accuracy: 0.7140344249771021\n",
            "(Validation)   log-likelihood: -4.036982601686508, RMSE: 17.629400344935593, CE: 0.6068843849487527, accuracy: 0.7052922402705664\n",
            "Time elapsed: 215.96 s\n",
            "[ Epoch 10 ]\n",
            "(Training)     log-likelihood: -3.811368187755472, RMSE: 17.571286479769125, CE: 0.6027536438864955, accuracy: 0.7140270385487145\n",
            "(Validation)   log-likelihood: -4.0785477058531745, RMSE: 21.271407677419628, CE: 0.6070988382536242, accuracy: 0.7052922402705664\n",
            "Time elapsed: 119.64 s\n",
            "[ Epoch 20 ]\n",
            "(Training)     log-likelihood: -3.803662434895833, RMSE: 15.736237456142378, CE: 0.6027993203622347, accuracy: 0.7140302041608806\n",
            "(Validation)   log-likelihood: -4.074110577876984, RMSE: 18.961274163651144, CE: 0.6073033614131298, accuracy: 0.7052922402705664\n",
            "Time elapsed: 239.25 s\n",
            "[ Epoch 30 ]\n",
            "(Training)     log-likelihood: -3.796998784447521, RMSE: 14.993275092808071, CE: 0.6011035896696166, accuracy: 0.7140344249771021\n",
            "(Validation)   log-likelihood: -4.061258122519841, RMSE: 17.72778097761412, CE: 0.6068713566724623, accuracy: 0.7052922402705664\n",
            "Time elapsed: 358.96 s\n",
            "[ Epoch 10 ]\n",
            "(Training)     log-likelihood: -3.8180536769432356, RMSE: 17.437367150154333, CE: 0.6023374184407642, accuracy: 0.7140323145689913\n",
            "(Validation)   log-likelihood: -4.045443774801587, RMSE: 21.170915410041474, CE: 0.606794805857905, accuracy: 0.7052922402705664\n",
            "Time elapsed: 122.27 s\n",
            "[ Epoch 20 ]\n",
            "(Training)     log-likelihood: -3.8062436677956883, RMSE: 15.609469073131946, CE: 0.6012482440796539, accuracy: 0.7140344249771021\n",
            "(Validation)   log-likelihood: -4.042139670138889, RMSE: 18.795706333868427, CE: 0.606886744986424, accuracy: 0.7052922402705664\n",
            "Time elapsed: 244.66 s\n",
            "[ Epoch 30 ]\n",
            "(Training)     log-likelihood: -3.798187644218091, RMSE: 14.944702515820968, CE: 0.6004116978320223, accuracy: 0.7140344249771021\n",
            "(Validation)   log-likelihood: -4.03651328125, RMSE: 17.63142178752218, CE: 0.6069406909197907, accuracy: 0.7052922402705664\n",
            "Time elapsed: 366.95 s\n",
            "[ Epoch 10 ]\n",
            "(Training)     log-likelihood: -3.8165990283821203, RMSE: 14.849971056825947, CE: 0.6022557961142803, accuracy: 0.7140312593649359\n",
            "(Validation)   log-likelihood: -4.071078187003968, RMSE: 17.25353408619854, CE: 0.6081923823318091, accuracy: 0.7052922402705664\n",
            "Time elapsed: 90.59 s\n",
            "[ Epoch 20 ]\n",
            "(Training)     log-likelihood: -3.781901237391218, RMSE: 14.165810151298272, CE: 0.6023283126686595, accuracy: 0.7140323145689913\n",
            "(Validation)   log-likelihood: -4.042636334325397, RMSE: 16.690521877358783, CE: 0.6085108819755395, accuracy: 0.7052922402705664\n",
            "Time elapsed: 181.05 s\n",
            "[ Epoch 30 ]\n",
            "(Training)     log-likelihood: -3.7461614500922997, RMSE: 13.671406029691129, CE: 0.6015438620977067, accuracy: 0.714019652120327\n",
            "(Validation)   log-likelihood: -4.012568874007936, RMSE: 16.0920967944112, CE: 0.6077960634695693, accuracy: 0.7052922402705664\n",
            "Time elapsed: 271.55 s\n",
            "[ Epoch 10 ]\n",
            "(Training)     log-likelihood: -3.8157814632367484, RMSE: 14.849871051728144, CE: 0.6012552476874297, accuracy: 0.7140344249771021\n",
            "(Validation)   log-likelihood: -4.072851661706349, RMSE: 17.263134351854216, CE: 0.6066775358651296, accuracy: 0.7052922402705664\n",
            "Time elapsed: 96.34 s\n",
            "[ Epoch 20 ]\n",
            "(Training)     log-likelihood: -3.7699637507828982, RMSE: 14.161067323439754, CE: 0.601713348581499, accuracy: 0.7140333697730468\n",
            "(Validation)   log-likelihood: -4.022336309523809, RMSE: 16.63520089386109, CE: 0.6093018977556011, accuracy: 0.7052922402705664\n",
            "Time elapsed: 192.64 s\n",
            "[ Epoch 30 ]\n",
            "(Training)     log-likelihood: -3.7363716726826213, RMSE: 13.593719515332912, CE: 0.6017442274691182, accuracy: 0.7140238729365485\n",
            "(Validation)   log-likelihood: -4.0005230902777775, RMSE: 16.167228986369285, CE: 0.6085575121022484, accuracy: 0.7052922402705664\n",
            "Time elapsed: 289.06 s\n",
            "[ Epoch 10 ]\n",
            "(Training)     log-likelihood: -3.816729695122956, RMSE: 14.853729980464562, CE: 0.6022349615017869, accuracy: 0.7140185969162717\n",
            "(Validation)   log-likelihood: -4.068947743055555, RMSE: 17.23828807841712, CE: 0.6080873901171422, accuracy: 0.7052922402705664\n",
            "Time elapsed: 136.60 s\n",
            "[ Epoch 20 ]\n",
            "(Training)     log-likelihood: -3.779881197257384, RMSE: 14.195911600720688, CE: 0.6027251367606284, accuracy: 0.7140280937527699\n",
            "(Validation)   log-likelihood: -4.035301624503968, RMSE: 16.603968987893804, CE: 0.6102447126472713, accuracy: 0.7052922402705664\n",
            "Time elapsed: 273.20 s\n",
            "[ Epoch 30 ]\n",
            "(Training)     log-likelihood: -3.749337624851661, RMSE: 13.669045972311578, CE: 0.6017139641601345, accuracy: 0.7140101552838288\n",
            "(Validation)   log-likelihood: -4.022149466765873, RMSE: 16.147805914821614, CE: 0.6081297591508678, accuracy: 0.7052922402705664\n",
            "Time elapsed: 409.99 s\n",
            "[ Epoch 10 ]\n",
            "(Training)     log-likelihood: -3.8154454052116296, RMSE: 14.845664886214971, CE: 0.601165601713996, accuracy: 0.7140333697730468\n",
            "(Validation)   log-likelihood: -4.072777901785714, RMSE: 17.261544436613768, CE: 0.6067149522311008, accuracy: 0.7052922402705664\n",
            "Time elapsed: 142.47 s\n",
            "[ Epoch 20 ]\n",
            "(Training)     log-likelihood: -3.7736293718684073, RMSE: 14.205868464048754, CE: 0.6019916156288647, accuracy: 0.7140333697730468\n",
            "(Validation)   log-likelihood: -4.036200806051587, RMSE: 16.855283820151772, CE: 0.6106843991399911, accuracy: 0.7052922402705664\n",
            "Time elapsed: 285.05 s\n",
            "[ Epoch 30 ]\n",
            "(Training)     log-likelihood: -3.7324117138053796, RMSE: 13.527931914498891, CE: 0.6020345764225848, accuracy: 0.7140006584473305\n",
            "(Validation)   log-likelihood: -4.000519791666667, RMSE: 16.083320274858917, CE: 0.6080973419711332, accuracy: 0.7052922402705664\n",
            "Time elapsed: 427.57 s\n",
            "[ Epoch 10 ]\n",
            "(Training)     log-likelihood: -3.780911836390757, RMSE: 14.250057334952375, CE: 0.6021021449046273, accuracy: 0.7140344249771021\n",
            "(Validation)   log-likelihood: -4.026717857142857, RMSE: 16.748774392648013, CE: 0.6081450358204719, accuracy: 0.7052922402705664\n",
            "Time elapsed: 138.41 s\n",
            "[ Epoch 20 ]\n",
            "(Training)     log-likelihood: -3.7631124901107595, RMSE: 13.772985188892026, CE: 0.6016896468074983, accuracy: 0.7140344249771021\n",
            "(Validation)   log-likelihood: -4.084983258928571, RMSE: 17.137558754635805, CE: 0.6077416275415217, accuracy: 0.7052922402705664\n",
            "Time elapsed: 277.04 s\n",
            "[ Epoch 30 ]\n",
            "(Training)     log-likelihood: -3.7333272009740903, RMSE: 13.220644226064742, CE: 0.6015472196354151, accuracy: 0.7140344249771021\n",
            "(Validation)   log-likelihood: -4.0759826016865075, RMSE: 16.83972534384794, CE: 0.6097998222869925, accuracy: 0.7052922402705664\n",
            "Time elapsed: 415.64 s\n",
            "[ Epoch 10 ]\n",
            "(Training)     log-likelihood: -3.7940372855270965, RMSE: 14.293696535791472, CE: 0.6032625437361472, accuracy: 0.7139996032432752\n",
            "(Validation)   log-likelihood: -4.080287115575397, RMSE: 16.656369427335626, CE: 0.6092342257687087, accuracy: 0.7052922402705664\n",
            "Time elapsed: 149.53 s\n",
            "[ Epoch 20 ]\n",
            "(Training)     log-likelihood: -3.76612473628692, RMSE: 13.796949458568848, CE: 0.6018751459355453, accuracy: 0.7140333697730468\n",
            "(Validation)   log-likelihood: -4.019444866071429, RMSE: 16.353657597513674, CE: 0.6086157594446164, accuracy: 0.7052922402705664\n",
            "Time elapsed: 299.37 s\n",
            "Epoch    25: reducing learning rate of group 0 to 5.0000e-05.\n",
            "[ Epoch 30 ]\n",
            "(Training)     log-likelihood: -3.7248090346453058, RMSE: 13.185030765748841, CE: 0.6010485045916051, accuracy: 0.7140323145689913\n",
            "(Validation)   log-likelihood: -4.026607713293651, RMSE: 16.43136351269798, CE: 0.608171945211896, accuracy: 0.7052922402705664\n",
            "Time elapsed: 449.15 s\n",
            "[ Epoch 10 ]\n",
            "(Training)     log-likelihood: -3.7831963941356803, RMSE: 14.306014626011597, CE: 0.6021983363119078, accuracy: 0.7140333697730468\n",
            "(Validation)   log-likelihood: -4.028842113095238, RMSE: 16.58143201430709, CE: 0.6082626872648026, accuracy: 0.7052922402705664\n",
            "Time elapsed: 171.32 s\n",
            "[ Epoch 20 ]\n",
            "(Training)     log-likelihood: -3.7586849864847047, RMSE: 13.80587937549361, CE: 0.6025902150365309, accuracy: 0.7140323145689913\n",
            "(Validation)   log-likelihood: -4.03441695188492, RMSE: 16.49990895208356, CE: 0.6090934205250956, accuracy: 0.7052922402705664\n",
            "Time elapsed: 342.67 s\n",
            "[ Epoch 30 ]\n",
            "(Training)     log-likelihood: -3.72372970336399, RMSE: 13.221977620937961, CE: 0.6012763562768549, accuracy: 0.7140354801811575\n",
            "(Validation)   log-likelihood: -4.03271769593254, RMSE: 16.355282688985966, CE: 0.6083203453730609, accuracy: 0.7052922402705664\n",
            "Time elapsed: 514.10 s\n",
            "[ Epoch 10 ]\n",
            "(Training)     log-likelihood: -3.8159853855567643, RMSE: 14.485913291676574, CE: 0.6040505663119411, accuracy: 0.7138518746755248\n",
            "(Validation)   log-likelihood: -4.063787859623016, RMSE: 17.011267110024768, CE: 0.6123102045920069, accuracy: 0.7052890646088379\n",
            "Time elapsed: 182.47 s\n",
            "[ Epoch 20 ]\n",
            "(Training)     log-likelihood: -3.755236055140757, RMSE: 13.774578069693865, CE: 0.6020336599459182, accuracy: 0.7140270385487145\n",
            "(Validation)   log-likelihood: -4.018233829365079, RMSE: 16.37006546753237, CE: 0.6100204408413916, accuracy: 0.7052922402705664\n",
            "Time elapsed: 365.13 s\n",
            "[ Epoch 30 ]\n",
            "(Training)     log-likelihood: -3.731984944661458, RMSE: 13.328088814330245, CE: 0.6017538839000773, accuracy: 0.7140027688554412\n",
            "(Validation)   log-likelihood: -4.013234759424603, RMSE: 16.195456409655705, CE: 0.6088191382494562, accuracy: 0.7052922402705664\n",
            "Time elapsed: 547.78 s\n"
          ],
          "name": "stdout"
        }
      ]
    },
    {
      "cell_type": "code",
      "metadata": {
        "colab": {
          "base_uri": "https://localhost:8080/"
        },
        "id": "dPz7_cM47IaM",
        "outputId": "778fb964-eaf0-4979-a988-2922bed4a317"
      },
      "source": [
        "best_params"
      ],
      "execution_count": 7,
      "outputs": [
        {
          "output_type": "execute_result",
          "data": {
            "text/plain": [
              "(256, 4, 1024)"
            ]
          },
          "metadata": {
            "tags": []
          },
          "execution_count": 7
        }
      ]
    }
  ]
}
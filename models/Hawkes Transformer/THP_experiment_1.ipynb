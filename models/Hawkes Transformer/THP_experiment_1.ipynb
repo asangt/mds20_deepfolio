{
  "nbformat": 4,
  "nbformat_minor": 0,
  "metadata": {
    "colab": {
      "name": "THP_experiment_1.ipynb",
      "provenance": [],
      "collapsed_sections": []
    },
    "kernelspec": {
      "name": "python3",
      "display_name": "Python 3"
    },
    "accelerator": "GPU"
  },
  "cells": [
    {
      "cell_type": "code",
      "metadata": {
        "id": "nDf5HEhrHHDI"
      },
      "source": [
        "import matplotlib.pyplot as plt\r\n",
        "import seaborn as sns\r\n",
        "\r\n",
        "import torch\r\n",
        "import torch.nn as nn\r\n",
        "import torch.optim as optim\r\n",
        "import torch.utils.data as utils_data"
      ],
      "execution_count": 8,
      "outputs": []
    },
    {
      "cell_type": "code",
      "metadata": {
        "id": "eHH9_d0jQI7d"
      },
      "source": [
        "from model import HawkesTransformer\r\n",
        "from train import train\r\n",
        "from dataset_wrapper import Dataset"
      ],
      "execution_count": 2,
      "outputs": []
    },
    {
      "cell_type": "code",
      "metadata": {
        "colab": {
          "base_uri": "https://localhost:8080/"
        },
        "id": "uhBjXAalPGfN",
        "outputId": "b402717c-9105-4641-b2ca-c970fe425c06"
      },
      "source": [
        "!nvidia-smi"
      ],
      "execution_count": 3,
      "outputs": [
        {
          "output_type": "stream",
          "text": [
            "Wed Dec  9 20:50:25 2020       \n",
            "+-----------------------------------------------------------------------------+\n",
            "| NVIDIA-SMI 455.45.01    Driver Version: 418.67       CUDA Version: 10.1     |\n",
            "|-------------------------------+----------------------+----------------------+\n",
            "| GPU  Name        Persistence-M| Bus-Id        Disp.A | Volatile Uncorr. ECC |\n",
            "| Fan  Temp  Perf  Pwr:Usage/Cap|         Memory-Usage | GPU-Util  Compute M. |\n",
            "|                               |                      |               MIG M. |\n",
            "|===============================+======================+======================|\n",
            "|   0  Tesla V100-SXM2...  Off  | 00000000:00:04.0 Off |                    0 |\n",
            "| N/A   36C    P0    26W / 300W |      0MiB / 16130MiB |      0%      Default |\n",
            "|                               |                      |                 ERR! |\n",
            "+-------------------------------+----------------------+----------------------+\n",
            "                                                                               \n",
            "+-----------------------------------------------------------------------------+\n",
            "| Processes:                                                                  |\n",
            "|  GPU   GI   CI        PID   Type   Process name                  GPU Memory |\n",
            "|        ID   ID                                                   Usage      |\n",
            "|=============================================================================|\n",
            "|  No running processes found                                                 |\n",
            "+-----------------------------------------------------------------------------+\n"
          ],
          "name": "stdout"
        }
      ]
    },
    {
      "cell_type": "code",
      "metadata": {
        "id": "OWBRixZVPPJk"
      },
      "source": [
        "# ALL GLOBAL VARIABLES\r\n",
        "\r\n",
        "GLOBAL_DEVICE = torch.device('cuda:0' if torch.cuda.is_available() else 'cpu')\r\n",
        "GLOBAL_SEED = 42\r\n",
        "TRAIN_MODEL = True # change to False if you want to load model with pretrained weights"
      ],
      "execution_count": 4,
      "outputs": []
    },
    {
      "cell_type": "code",
      "metadata": {
        "id": "Mzc3YELnPVUP"
      },
      "source": [
        "# Unzip data\r\n",
        "# !unzip -q fin_data.zip -d data"
      ],
      "execution_count": 5,
      "outputs": []
    },
    {
      "cell_type": "code",
      "metadata": {
        "id": "PgAtIMR9PfOQ"
      },
      "source": [
        "train_dataset = Dataset('data/train.pkl')\r\n",
        "val_dataset = Dataset('data/test.pkl')\r\n",
        "\r\n",
        "train_loader = utils_data.DataLoader(train_dataset, batch_size=4, shuffle=True)\r\n",
        "val_loader = utils_data.DataLoader(val_dataset, batch_size=4, shuffle=False)"
      ],
      "execution_count": 6,
      "outputs": []
    },
    {
      "cell_type": "code",
      "metadata": {
        "colab": {
          "base_uri": "https://localhost:8080/"
        },
        "id": "2JVuvi8DQYls",
        "outputId": "8a09e782-37b0-4b50-f197-4bbe50b0dacf"
      },
      "source": [
        "model = HawkesTransformer(2, GLOBAL_DEVICE, 512, 4, 1024, 4, 0.1, 'relu').to(GLOBAL_DEVICE)\r\n",
        "\r\n",
        "if TRAIN_MODEL:\r\n",
        "    optimizer = torch.optim.Adam(model.parameters(), lr=1e-4, betas=(0.9, 0.999), eps=1e-05)\r\n",
        "    scheduler = torch.optim.lr_scheduler.StepLR(optimizer, 10, gamma=0.5)\r\n",
        "\r\n",
        "    train_history, val_history = train(model, 50, optimizer, train_loader, val_loader, scheduler, GLOBAL_DEVICE, freq=1)\r\n",
        "else:\r\n",
        "    model.load_state_dict(torch.load('model_weights.pth'))"
      ],
      "execution_count": 7,
      "outputs": [
        {
          "output_type": "stream",
          "text": [
            "[ Epoch 1 ]\n",
            "(Training)     log-likelihood: -1.458083324375544, RMSE: 20.25114772659046, CE: 0.7099571407380199, accuracy: 0.5796966043801487\n",
            "(Validation)   log-likelihood: -1.4262015665052021, RMSE: 17.454799735550367, CE: 0.6670440202058802, accuracy: 0.607463768115942\n",
            "Time elapsed: 5.88 s\n",
            "[ Epoch 2 ]\n",
            "(Training)     log-likelihood: -1.3176623020655485, RMSE: 20.24517089350528, CE: 0.6664811649211372, accuracy: 0.6161810997254035\n",
            "(Validation)   log-likelihood: -1.3783539399997173, RMSE: 17.455801722174492, CE: 0.6621394267059179, accuracy: 0.6160507246376812\n",
            "Time elapsed: 11.74 s\n",
            "[ Epoch 3 ]\n",
            "(Training)     log-likelihood: -1.1323419022107561, RMSE: 20.24035959809559, CE: 0.661981153344447, accuracy: 0.620678454222758\n",
            "(Validation)   log-likelihood: -1.4347402302519978, RMSE: 17.460254272958142, CE: 0.6616098833314462, accuracy: 0.616268115942029\n",
            "Time elapsed: 17.60 s\n",
            "[ Epoch 4 ]\n",
            "(Training)     log-likelihood: -1.072422013616886, RMSE: 20.23326742008421, CE: 0.6604778939501917, accuracy: 0.6194863036635189\n",
            "(Validation)   log-likelihood: -1.2736330981651462, RMSE: 17.458175976387043, CE: 0.6595588897852506, accuracy: 0.6164855072463769\n",
            "Time elapsed: 23.47 s\n",
            "[ Epoch 5 ]\n",
            "(Training)     log-likelihood: -1.051861621508947, RMSE: 20.222736452740435, CE: 0.6607832569533395, accuracy: 0.6201225637934499\n",
            "(Validation)   log-likelihood: -1.331639949122154, RMSE: 17.467591792389445, CE: 0.6610137703568463, accuracy: 0.6164734299516909\n",
            "Time elapsed: 29.33 s\n",
            "[ Epoch 6 ]\n",
            "(Training)     log-likelihood: -1.0655242526588289, RMSE: 20.209508839037433, CE: 0.6594969722049553, accuracy: 0.6190107829348336\n",
            "(Validation)   log-likelihood: -1.3094372116843525, RMSE: 17.47887267706358, CE: 0.665349110773796, accuracy: 0.6139734299516908\n",
            "Time elapsed: 35.19 s\n",
            "[ Epoch 7 ]\n",
            "(Training)     log-likelihood: -1.0269042249511442, RMSE: 20.18604735993677, CE: 0.6602901112042479, accuracy: 0.6183812202799545\n",
            "(Validation)   log-likelihood: -1.39744343756479, RMSE: 17.475904601688693, CE: 0.6602616182041628, accuracy: 0.6164734299516909\n",
            "Time elapsed: 41.06 s\n",
            "[ Epoch 8 ]\n",
            "(Training)     log-likelihood: -1.0225033447862266, RMSE: 20.16466513905138, CE: 0.6597788907751699, accuracy: 0.617487107360525\n",
            "(Validation)   log-likelihood: -1.2201675536520376, RMSE: 17.479935483172337, CE: 0.66123600024532, accuracy: 0.6164734299516909\n",
            "Time elapsed: 46.93 s\n",
            "[ Epoch 9 ]\n",
            "(Training)     log-likelihood: -1.0014098661353195, RMSE: 20.14489413568669, CE: 0.657860013483901, accuracy: 0.6214486638537271\n",
            "(Validation)   log-likelihood: -1.3252311156195813, RMSE: 17.48385650053967, CE: 0.6611484516530797, accuracy: 0.6168961352657005\n",
            "Time elapsed: 52.80 s\n",
            "[ Epoch 10 ]\n",
            "(Training)     log-likelihood: -0.9899916466979889, RMSE: 20.12143842761356, CE: 0.6574301961549168, accuracy: 0.6199785680798339\n",
            "(Validation)   log-likelihood: -1.1365874471077728, RMSE: 17.479061034271954, CE: 0.6618286825723694, accuracy: 0.6164613526570049\n",
            "Time elapsed: 58.67 s\n",
            "[ Epoch 11 ]\n",
            "(Training)     log-likelihood: -0.9880148080757675, RMSE: 20.10802818355597, CE: 0.6577710364813559, accuracy: 0.6204072064831558\n",
            "(Validation)   log-likelihood: -1.1841708039029517, RMSE: 17.473542139582317, CE: 0.6592626908896626, accuracy: 0.6172463768115942\n",
            "Time elapsed: 64.53 s\n",
            "[ Epoch 12 ]\n",
            "(Training)     log-likelihood: -0.9774551714952421, RMSE: 20.104988145733202, CE: 0.6577581353392271, accuracy: 0.6200689839930347\n",
            "(Validation)   log-likelihood: -1.1552044346421706, RMSE: 17.478695695929723, CE: 0.6609558326610621, accuracy: 0.6155676328502415\n",
            "Time elapsed: 70.40 s\n",
            "[ Epoch 13 ]\n",
            "(Training)     log-likelihood: -0.9763498456775593, RMSE: 20.09449544450595, CE: 0.6567227230285354, accuracy: 0.6209831893376198\n",
            "(Validation)   log-likelihood: -1.1551753836747964, RMSE: 17.471758558234875, CE: 0.6590166248561103, accuracy: 0.6169685990338164\n",
            "Time elapsed: 76.28 s\n",
            "[ Epoch 14 ]\n",
            "(Training)     log-likelihood: -0.9667098340572796, RMSE: 20.093215672007634, CE: 0.6562566010026329, accuracy: 0.6205076686089345\n",
            "(Validation)   log-likelihood: -1.1914328845936368, RMSE: 17.475511478707418, CE: 0.6591198214471052, accuracy: 0.6159057971014493\n",
            "Time elapsed: 82.16 s\n",
            "[ Epoch 15 ]\n",
            "(Training)     log-likelihood: -0.962207289522028, RMSE: 20.08797718122456, CE: 0.6557538080116453, accuracy: 0.6199986605049896\n",
            "(Validation)   log-likelihood: -1.1359258797603005, RMSE: 17.472069328728274, CE: 0.6603879580290422, accuracy: 0.6139734299516908\n",
            "Time elapsed: 88.03 s\n",
            "[ Epoch 16 ]\n",
            "(Training)     log-likelihood: -0.9647312888781134, RMSE: 20.08539318424323, CE: 0.6556141208543675, accuracy: 0.6210602103007167\n",
            "(Validation)   log-likelihood: -1.149820538970616, RMSE: 17.473322972442983, CE: 0.6598177142304499, accuracy: 0.6155434782608695\n",
            "Time elapsed: 93.90 s\n",
            "[ Epoch 17 ]\n",
            "(Training)     log-likelihood: -0.9620753877088146, RMSE: 20.082817335406045, CE: 0.6563980786226015, accuracy: 0.6197776438282767\n",
            "(Validation)   log-likelihood: -1.2518822505937124, RMSE: 17.47353702663338, CE: 0.6614931263209541, accuracy: 0.6146980676328503\n",
            "Time elapsed: 99.77 s\n",
            "[ Epoch 18 ]\n",
            "(Training)     log-likelihood: -0.9574925140343058, RMSE: 20.076189676930447, CE: 0.6565194065880132, accuracy: 0.6201259125309758\n",
            "(Validation)   log-likelihood: -1.2717956800656383, RMSE: 17.47569773593737, CE: 0.6600575470118131, accuracy: 0.614963768115942\n",
            "Time elapsed: 105.65 s\n",
            "[ Epoch 19 ]\n",
            "(Training)     log-likelihood: -0.9481914305079551, RMSE: 20.079660969609588, CE: 0.6548602706564781, accuracy: 0.6210468153506128\n",
            "(Validation)   log-likelihood: -1.232163304603862, RMSE: 17.47167682993989, CE: 0.6610163046426819, accuracy: 0.6135869565217391\n",
            "Time elapsed: 111.52 s\n",
            "[ Epoch 20 ]\n",
            "(Training)     log-likelihood: -0.9423446928563657, RMSE: 20.071540795718413, CE: 0.6543659001982034, accuracy: 0.6213448529904226\n",
            "(Validation)   log-likelihood: -1.2187091653453426, RMSE: 17.473389014044038, CE: 0.6587408240866546, accuracy: 0.6155555555555555\n",
            "Time elapsed: 117.39 s\n",
            "[ Epoch 21 ]\n",
            "(Training)     log-likelihood: -0.9345237597842598, RMSE: 20.071025357193864, CE: 0.6538370596540963, accuracy: 0.6213850378407341\n",
            "(Validation)   log-likelihood: -1.1586184084976252, RMSE: 17.4700036950714, CE: 0.6605984128500528, accuracy: 0.613780193236715\n",
            "Time elapsed: 123.26 s\n",
            "[ Epoch 22 ]\n",
            "(Training)     log-likelihood: -0.9404185801681606, RMSE: 20.06855994305829, CE: 0.6540080774557757, accuracy: 0.6216998191681736\n",
            "(Validation)   log-likelihood: -1.2488649964188783, RMSE: 17.470991793944815, CE: 0.6584214509973203, accuracy: 0.6153864734299517\n",
            "Time elapsed: 129.12 s\n",
            "[ Epoch 23 ]\n",
            "(Training)     log-likelihood: -0.9273006120327826, RMSE: 20.06710859189649, CE: 0.6536448653388922, accuracy: 0.6220045542830352\n",
            "(Validation)   log-likelihood: -1.1614060180811312, RMSE: 17.468001036555332, CE: 0.6595934439396512, accuracy: 0.6128502415458937\n",
            "Time elapsed: 134.99 s\n",
            "[ Epoch 24 ]\n",
            "(Training)     log-likelihood: -0.9271614683863268, RMSE: 20.066279104078138, CE: 0.6538242615248895, accuracy: 0.6209296095372044\n",
            "(Validation)   log-likelihood: -1.2808279672951692, RMSE: 17.476354799969585, CE: 0.6585059360375151, accuracy: 0.6142028985507246\n",
            "Time elapsed: 140.86 s\n",
            "[ Epoch 25 ]\n",
            "(Training)     log-likelihood: -0.9262511530701809, RMSE: 20.064417878187655, CE: 0.6534748302477856, accuracy: 0.6217132141182774\n",
            "(Validation)   log-likelihood: -1.2208851025331724, RMSE: 17.467916046710247, CE: 0.6591048707823822, accuracy: 0.6142632850241546\n",
            "Time elapsed: 146.73 s\n",
            "[ Epoch 26 ]\n",
            "(Training)     log-likelihood: -0.9188414430096289, RMSE: 20.063552164192597, CE: 0.6535509191892078, accuracy: 0.6209497019623602\n",
            "(Validation)   log-likelihood: -1.2832694405439535, RMSE: 17.47420515134467, CE: 0.6598562504127982, accuracy: 0.6125483091787439\n",
            "Time elapsed: 152.60 s\n",
            "[ Epoch 27 ]\n",
            "(Training)     log-likelihood: -0.9148983320334731, RMSE: 20.06134302346506, CE: 0.6534860766426605, accuracy: 0.6209932355501976\n",
            "(Validation)   log-likelihood: -1.2052164215345578, RMSE: 17.46557878528423, CE: 0.6587240689042686, accuracy: 0.6131884057971014\n",
            "Time elapsed: 158.47 s\n",
            "[ Epoch 28 ]\n",
            "(Training)     log-likelihood: -0.9071465602873606, RMSE: 20.060495828818894, CE: 0.6533855311254688, accuracy: 0.6209530506998862\n",
            "(Validation)   log-likelihood: -1.198868484036914, RMSE: 17.466666052027303, CE: 0.6589105784835447, accuracy: 0.613804347826087\n",
            "Time elapsed: 164.34 s\n",
            "[ Epoch 29 ]\n",
            "(Training)     log-likelihood: -0.8996319280327282, RMSE: 20.059186629841918, CE: 0.6530580775735048, accuracy: 0.6206114794722389\n",
            "(Validation)   log-likelihood: -1.2714982702533644, RMSE: 17.471256642498663, CE: 0.6585961501264341, accuracy: 0.6128985507246377\n",
            "Time elapsed: 170.21 s\n",
            "[ Epoch 30 ]\n",
            "(Training)     log-likelihood: -0.8984380431068438, RMSE: 20.057836896590146, CE: 0.6526513302336582, accuracy: 0.6212343446520662\n",
            "(Validation)   log-likelihood: -1.2430732563235072, RMSE: 17.467033573808024, CE: 0.6588390435112847, accuracy: 0.6138647342995169\n",
            "Time elapsed: 176.08 s\n",
            "[ Epoch 31 ]\n",
            "(Training)     log-likelihood: -0.8957021409508804, RMSE: 20.056731598555928, CE: 0.6527661945469996, accuracy: 0.6213816891032081\n",
            "(Validation)   log-likelihood: -1.2187591416528056, RMSE: 17.46712939601864, CE: 0.6586759867645117, accuracy: 0.6132246376811594\n",
            "Time elapsed: 181.95 s\n",
            "[ Epoch 32 ]\n",
            "(Training)     log-likelihood: -0.8878580761859328, RMSE: 20.054712085570017, CE: 0.6526948376594837, accuracy: 0.6213950840533119\n",
            "(Validation)   log-likelihood: -1.1693500602547309, RMSE: 17.465081977385573, CE: 0.6588308376736111, accuracy: 0.6136473429951691\n",
            "Time elapsed: 187.82 s\n",
            "[ Epoch 33 ]\n",
            "(Training)     log-likelihood: -0.8859921032837033, RMSE: 20.055611137397573, CE: 0.6527442838620152, accuracy: 0.6211841135891769\n",
            "(Validation)   log-likelihood: -1.1982594293794528, RMSE: 17.46443285993746, CE: 0.6590580653683575, accuracy: 0.6131521739130434\n",
            "Time elapsed: 193.69 s\n",
            "[ Epoch 34 ]\n",
            "(Training)     log-likelihood: -0.8822785520053941, RMSE: 20.053735998646005, CE: 0.6523589574869922, accuracy: 0.6223193356104748\n",
            "(Validation)   log-likelihood: -1.1836190869523475, RMSE: 17.462851180607757, CE: 0.6587082395691802, accuracy: 0.6126690821256039\n",
            "Time elapsed: 199.56 s\n",
            "[ Epoch 35 ]\n",
            "(Training)     log-likelihood: -0.8796058451733078, RMSE: 20.0530893107113, CE: 0.6526918764467593, accuracy: 0.6211003951510281\n",
            "(Validation)   log-likelihood: -1.177566068163827, RMSE: 17.46410499388318, CE: 0.6589043363856809, accuracy: 0.613804347826087\n",
            "Time elapsed: 205.42 s\n",
            "[ Epoch 36 ]\n",
            "(Training)     log-likelihood: -0.8758441882778238, RMSE: 20.052629146745673, CE: 0.6527606580112266, accuracy: 0.6209898868126716\n",
            "(Validation)   log-likelihood: -1.1681291922096464, RMSE: 17.461377565270187, CE: 0.6588652134402363, accuracy: 0.6131763285024154\n",
            "Time elapsed: 211.28 s\n",
            "[ Epoch 37 ]\n",
            "(Training)     log-likelihood: -0.8722139754982885, RMSE: 20.051716995823845, CE: 0.6523895400613656, accuracy: 0.6213649454155783\n",
            "(Validation)   log-likelihood: -1.1342600661624038, RMSE: 17.463024730463534, CE: 0.6591333995579521, accuracy: 0.6133212560386473\n",
            "Time elapsed: 217.15 s\n",
            "[ Epoch 38 ]\n",
            "(Training)     log-likelihood: -0.8782895258204028, RMSE: 20.052558746115807, CE: 0.6523353438185445, accuracy: 0.6217400040184851\n",
            "(Validation)   log-likelihood: -1.2229416637167567, RMSE: 17.464487893063485, CE: 0.6590300614361602, accuracy: 0.6127657004830918\n",
            "Time elapsed: 223.03 s\n",
            "[ Epoch 39 ]\n",
            "(Training)     log-likelihood: -0.8692631521924483, RMSE: 20.050101699898622, CE: 0.6524008191587553, accuracy: 0.6212343446520662\n",
            "(Validation)   log-likelihood: -1.1564508653003431, RMSE: 17.46092678038448, CE: 0.6589301908188971, accuracy: 0.6132608695652174\n",
            "Time elapsed: 228.88 s\n",
            "[ Epoch 40 ]\n",
            "(Training)     log-likelihood: -0.864400143272321, RMSE: 20.049377343320806, CE: 0.6522453530380374, accuracy: 0.621458710066305\n",
            "(Validation)   log-likelihood: -1.1712689952597255, RMSE: 17.460801555942282, CE: 0.6589058637388663, accuracy: 0.6125845410628019\n",
            "Time elapsed: 234.75 s\n",
            "[ Epoch 41 ]\n",
            "(Training)     log-likelihood: -0.8616260940926191, RMSE: 20.049294899915964, CE: 0.6521729186026556, accuracy: 0.6209697943875159\n",
            "(Validation)   log-likelihood: -1.1395010092520168, RMSE: 17.460162812002075, CE: 0.6589647641389267, accuracy: 0.6130676328502416\n",
            "Time elapsed: 240.62 s\n",
            "[ Epoch 42 ]\n",
            "(Training)     log-likelihood: -0.8618978992480165, RMSE: 20.048956557828816, CE: 0.6521235884940518, accuracy: 0.6216395418927064\n",
            "(Validation)   log-likelihood: -1.15239435543341, RMSE: 17.459823307673503, CE: 0.6589980415675951, accuracy: 0.6129347826086956\n",
            "Time elapsed: 246.48 s\n",
            "[ Epoch 43 ]\n",
            "(Training)     log-likelihood: -0.856939659873393, RMSE: 20.048344503013407, CE: 0.6520277733956408, accuracy: 0.6215725671421874\n",
            "(Validation)   log-likelihood: -1.1490030720783229, RMSE: 17.459560156191653, CE: 0.6589978410656325, accuracy: 0.612463768115942\n",
            "Time elapsed: 252.34 s\n",
            "[ Epoch 44 ]\n",
            "(Training)     log-likelihood: -0.8552995630233441, RMSE: 20.04810737689237, CE: 0.6517360849490992, accuracy: 0.6217969325564262\n",
            "(Validation)   log-likelihood: -1.1548105782392661, RMSE: 17.459942211195212, CE: 0.658976888610545, accuracy: 0.6128623188405797\n",
            "Time elapsed: 258.22 s\n",
            "[ Epoch 45 ]\n",
            "(Training)     log-likelihood: -0.8560346632446604, RMSE: 20.047401334516312, CE: 0.6518592475255969, accuracy: 0.6220715290335543\n",
            "(Validation)   log-likelihood: -1.1925315358123962, RMSE: 17.461211347132256, CE: 0.6589678969820917, accuracy: 0.6127053140096619\n",
            "Time elapsed: 264.08 s\n",
            "[ Epoch 46 ]\n",
            "(Training)     log-likelihood: -0.8579863669311896, RMSE: 20.047789410506745, CE: 0.6519592011272688, accuracy: 0.6214888487040385\n",
            "(Validation)   log-likelihood: -1.1309762392860845, RMSE: 17.458716930442186, CE: 0.6590434125080201, accuracy: 0.6135748792270531\n",
            "Time elapsed: 269.94 s\n",
            "[ Epoch 47 ]\n",
            "(Training)     log-likelihood: -0.8503177873841895, RMSE: 20.04699078959011, CE: 0.6518876913554957, accuracy: 0.6219744156453018\n",
            "(Validation)   log-likelihood: -1.2218399758333176, RMSE: 17.46220858258407, CE: 0.6588119683749434, accuracy: 0.6126570048309179\n",
            "Time elapsed: 275.81 s\n",
            "[ Epoch 48 ]\n",
            "(Training)     log-likelihood: -0.8545911261196583, RMSE: 20.04727701355668, CE: 0.6519674029180061, accuracy: 0.6214151764784677\n",
            "(Validation)   log-likelihood: -1.1710881011189829, RMSE: 17.4594930518734, CE: 0.6595536841056198, accuracy: 0.6130676328502416\n",
            "Time elapsed: 281.67 s\n",
            "[ Epoch 49 ]\n",
            "(Training)     log-likelihood: -0.8497291584608085, RMSE: 20.046182797330754, CE: 0.6521063232013093, accuracy: 0.6219610206951979\n",
            "(Validation)   log-likelihood: -1.1317829340991123, RMSE: 17.457663416203648, CE: 0.6589083390535364, accuracy: 0.6129468599033816\n",
            "Time elapsed: 287.54 s\n",
            "[ Epoch 50 ]\n",
            "(Training)     log-likelihood: -0.8537829708763307, RMSE: 20.046001009148256, CE: 0.6518145840658697, accuracy: 0.6216127519924989\n",
            "(Validation)   log-likelihood: -1.131429170210485, RMSE: 17.456545261757785, CE: 0.6589051958904174, accuracy: 0.6130434782608696\n",
            "Time elapsed: 293.41 s\n"
          ],
          "name": "stdout"
        }
      ]
    },
    {
      "cell_type": "code",
      "metadata": {
        "colab": {
          "base_uri": "https://localhost:8080/",
          "height": 851
        },
        "id": "WEAgIiBYR3Xa",
        "outputId": "6be1e33d-91c4-4c05-cbcb-d53e54288fb1"
      },
      "source": [
        "# If model was trained, output plots\r\n",
        "\r\n",
        "if TRAIN_MODEL:\r\n",
        "    epochs = list(range(1, 51))\r\n",
        "\r\n",
        "    plt.plot(epochs, train_history['log-likelihood'], c='r', label='train')\r\n",
        "    plt.plot(epochs, val_history['log-likelihood'], c='b', label='val')\r\n",
        "    plt.title(\"Log-likelihood progression\")\r\n",
        "    plt.xlabel(\"Epoch\")\r\n",
        "    plt.ylabel(\"Log-likelihood\")\r\n",
        "    plt.legend()\r\n",
        "    plt.show()\r\n",
        "\r\n",
        "    plt.plot(epochs, train_history['cross entropy'], c='r', label='train')\r\n",
        "    plt.plot(epochs, val_history['cross entropy'], c='b', label='val')\r\n",
        "    plt.title(\"Cross entropy progression\")\r\n",
        "    plt.xlabel(\"Epoch\")\r\n",
        "    plt.ylabel(\"Cross entropy\")\r\n",
        "    plt.legend()\r\n",
        "    plt.show()\r\n",
        "\r\n",
        "    plt.plot(epochs, train_history['accuracy'], c='r', label='train')\r\n",
        "    plt.plot(epochs, val_history['accuracy'], c='b', label='val')\r\n",
        "    plt.title(\"Accuracy progression\")\r\n",
        "    plt.xlabel(\"Epoch\")\r\n",
        "    plt.ylabel(\"Accuracy\")\r\n",
        "    plt.legend()\r\n",
        "    plt.show()"
      ],
      "execution_count": 13,
      "outputs": [
        {
          "output_type": "display_data",
          "data": {
            "image/png": "[encoded data removed]",
            "text/plain": [
              "<Figure size 432x288 with 1 Axes>"
            ]
          },
          "metadata": {
            "tags": [],
            "needs_background": "light"
          }
        },
        {
          "output_type": "display_data",
          "data": {
            "image/png": "[encoded data removed]",
            "text/plain": [
              "<Figure size 432x288 with 1 Axes>"
            ]
          },
          "metadata": {
            "tags": [],
            "needs_background": "light"
          }
        },
        {
          "output_type": "display_data",
          "data": {
            "image/png": "[encoded data removed]",
            "text/plain": [
              "<Figure size 432x288 with 1 Axes>"
            ]
          },
          "metadata": {
            "tags": [],
            "needs_background": "light"
          }
        }
      ]
    }
  ]
}
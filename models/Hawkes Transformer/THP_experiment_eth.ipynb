{
  "nbformat": 4,
  "nbformat_minor": 0,
  "metadata": {
    "colab": {
      "name": "THP_experiment_ltc.ipynb",
      "provenance": [],
      "collapsed_sections": []
    },
    "kernelspec": {
      "name": "python3",
      "display_name": "Python 3"
    },
    "accelerator": "GPU"
  },
  "cells": [
    {
      "cell_type": "code",
      "metadata": {
        "id": "gtLuvGRBAXIk"
      },
      "source": [
        "import numpy as np\r\n",
        "import matplotlib.pyplot as plt\r\n",
        "\r\n",
        "import torch\r\n",
        "import torch.nn as nn\r\n",
        "import torch.optim as optim\r\n",
        "import torch.utils.data as utils_data"
      ],
      "execution_count": 1,
      "outputs": []
    },
    {
      "cell_type": "code",
      "metadata": {
        "colab": {
          "base_uri": "https://localhost:8080/"
        },
        "id": "11046m7pBzvN",
        "outputId": "e372054e-149c-49b8-b8eb-bc509d96f662"
      },
      "source": [
        "from google.colab import drive\r\n",
        "drive.mount('/content/drive')"
      ],
      "execution_count": 2,
      "outputs": [
        {
          "output_type": "stream",
          "text": [
            "Drive already mounted at /content/drive; to attempt to forcibly remount, call drive.mount(\"/content/drive\", force_remount=True).\n"
          ],
          "name": "stdout"
        }
      ]
    },
    {
      "cell_type": "code",
      "metadata": {
        "id": "CVQoJjUsg0yk"
      },
      "source": [
        "from model import HawkesTransformer\r\n",
        "from train import train, run_epoch\r\n",
        "from dataset_wrapper import LobDataset"
      ],
      "execution_count": 3,
      "outputs": []
    },
    {
      "cell_type": "code",
      "metadata": {
        "id": "BM8pHD5Jh98L"
      },
      "source": [
        "TRAIN_MODEL = True\r\n",
        "GLOBAL_DEVICE = torch.device('cuda:0' if torch.cuda.is_available() else 'cpu')\r\n",
        "GLOBAL_SEED = 42"
      ],
      "execution_count": 4,
      "outputs": []
    },
    {
      "cell_type": "code",
      "metadata": {
        "colab": {
          "base_uri": "https://localhost:8080/"
        },
        "id": "X3zbImGaiCuk",
        "outputId": "58943385-5d6a-40f6-bd3d-d3d7f32e9502"
      },
      "source": [
        "torch.cuda.empty_cache()\r\n",
        "!nvidia-smi"
      ],
      "execution_count": 5,
      "outputs": [
        {
          "output_type": "stream",
          "text": [
            "Sat Dec 12 18:39:06 2020       \n",
            "+-----------------------------------------------------------------------------+\n",
            "| NVIDIA-SMI 455.45.01    Driver Version: 418.67       CUDA Version: 10.1     |\n",
            "|-------------------------------+----------------------+----------------------+\n",
            "| GPU  Name        Persistence-M| Bus-Id        Disp.A | Volatile Uncorr. ECC |\n",
            "| Fan  Temp  Perf  Pwr:Usage/Cap|         Memory-Usage | GPU-Util  Compute M. |\n",
            "|                               |                      |               MIG M. |\n",
            "|===============================+======================+======================|\n",
            "|   0  Tesla P100-PCIE...  Off  | 00000000:00:04.0 Off |                    0 |\n",
            "| N/A   32C    P0    26W / 250W |     10MiB / 16280MiB |      0%      Default |\n",
            "|                               |                      |                 ERR! |\n",
            "+-------------------------------+----------------------+----------------------+\n",
            "                                                                               \n",
            "+-----------------------------------------------------------------------------+\n",
            "| Processes:                                                                  |\n",
            "|  GPU   GI   CI        PID   Type   Process name                  GPU Memory |\n",
            "|        ID   ID                                                   Usage      |\n",
            "|=============================================================================|\n",
            "|  No running processes found                                                 |\n",
            "+-----------------------------------------------------------------------------+\n"
          ],
          "name": "stdout"
        }
      ]
    },
    {
      "cell_type": "code",
      "metadata": {
        "colab": {
          "base_uri": "https://localhost:8080/"
        },
        "id": "kFbXNSTnB86N",
        "outputId": "6fd6f6f8-8210-4874-ec89-e20ea07ea10b"
      },
      "source": [
        "data = np.load('/content/drive/MyDrive/LOB datasets/dataset_filtered_ETH.npy')\r\n",
        "data.shape"
      ],
      "execution_count": 6,
      "outputs": [
        {
          "output_type": "execute_result",
          "data": {
            "text/plain": [
              "(527, 3000, 3)"
            ]
          },
          "metadata": {
            "tags": []
          },
          "execution_count": 6
        }
      ]
    },
    {
      "cell_type": "code",
      "metadata": {
        "colab": {
          "base_uri": "https://localhost:8080/"
        },
        "id": "yXlTgUhG1dzL",
        "outputId": "c84f1b6b-2953-4caa-ed70-36fc2a4503fa"
      },
      "source": [
        "train_size, val_size = 395, 66\r\n",
        "\r\n",
        "train_data, val_data, test_data = data[:train_size], data[train_size:train_size + val_size], data[train_size + val_size:]\r\n",
        "print(\"Train size:\", train_data.shape)\r\n",
        "print(\"Val size:\", val_data.shape)\r\n",
        "print(\"Test size:\", test_data.shape)"
      ],
      "execution_count": 7,
      "outputs": [
        {
          "output_type": "stream",
          "text": [
            "Train size: (395, 3000, 3)\n",
            "Val size: (66, 3000, 3)\n",
            "Test size: (66, 3000, 3)\n"
          ],
          "name": "stdout"
        }
      ]
    },
    {
      "cell_type": "code",
      "metadata": {
        "id": "rdx2K8xOhRm-"
      },
      "source": [
        "train_dset = LobDataset(train_data, slice_inputs=False)\r\n",
        "val_dset = LobDataset(val_data, slice_inputs=False)\r\n",
        "test_dset = LobDataset(test_data, slice_inputs=False)\r\n",
        "\r\n",
        "train_loader = utils_data.DataLoader(train_dset, batch_size=5, shuffle=True)\r\n",
        "val_loader = utils_data.DataLoader(val_dset, batch_size=5, shuffle=False)\r\n",
        "test_loader = utils_data.DataLoader(test_dset, batch_size=5, shuffle=False)"
      ],
      "execution_count": 8,
      "outputs": []
    },
    {
      "cell_type": "code",
      "metadata": {
        "colab": {
          "base_uri": "https://localhost:8080/"
        },
        "id": "s0Jr_WUdh6P-",
        "outputId": "8f1d87ed-4623-459a-fe91-6ae131519424"
      },
      "source": [
        "model = HawkesTransformer(2, GLOBAL_DEVICE, 512, 4, 1024, 4, 0.1, 'relu').to(GLOBAL_DEVICE)\r\n",
        "\r\n",
        "if TRAIN_MODEL:\r\n",
        "    optimizer = optim.Adam(model.parameters(), lr=1e-4, eps=1e-5, weight_decay=1e-4)\r\n",
        "    scheduler = optim.lr_scheduler.ReduceLROnPlateau(optimizer, factor=0.5, threshold=0.001, patience=5, verbose=True)\r\n",
        "    n_epochs  = 50\r\n",
        "\r\n",
        "    train_history, val_history = train(model, n_epochs, optimizer, train_loader, val_loader, scheduler, GLOBAL_DEVICE, verbose=True, freq=1,\\\r\n",
        "                                       early_stopping=True, patience=10)\r\n",
        "else:\r\n",
        "    model.load_state_dict(torch.load('model_weights.pth'))"
      ],
      "execution_count": 9,
      "outputs": [
        {
          "output_type": "stream",
          "text": [
            "[ Epoch 1 ]\n",
            "(Training)     log-likelihood: -4.126281160996835, RMSE: 17.552611585737534, CE: 0.6950866343963283, accuracy: 0.5508823616310922\n",
            "(Validation)   log-likelihood: -3.787676846590909, RMSE: 14.410123001890824, CE: 0.6835600905300978, accuracy: 0.5696747400648701\n",
            "Time elapsed: 40.36 s\n",
            "[ Epoch 2 ]\n",
            "(Training)     log-likelihood: -3.881345955300633, RMSE: 15.637750375713091, CE: 0.6841461031578037, accuracy: 0.5719780011058538\n",
            "(Validation)   log-likelihood: -3.806044645675505, RMSE: 14.241907765385427, CE: 0.6837386649400811, accuracy: 0.5696545313084159\n",
            "Time elapsed: 80.76 s\n",
            "[ Epoch 3 ]\n",
            "(Training)     log-likelihood: -3.8782832212552742, RMSE: 15.417802430314564, CE: 0.6840928887226649, accuracy: 0.5729884645092668\n",
            "(Validation)   log-likelihood: -3.785026002209596, RMSE: 14.254066044363404, CE: 0.6835653918750221, accuracy: 0.5696545313084159\n",
            "Time elapsed: 121.19 s\n",
            "[ Epoch 4 ]\n",
            "(Training)     log-likelihood: -3.87592611089135, RMSE: 15.353016164635953, CE: 0.6835964028489454, accuracy: 0.5747443240573862\n",
            "(Validation)   log-likelihood: -3.8016834556502523, RMSE: 14.27373919817811, CE: 0.6838007787436405, accuracy: 0.5696545313084159\n",
            "Time elapsed: 161.53 s\n",
            "[ Epoch 5 ]\n",
            "(Training)     log-likelihood: -3.8865982891613924, RMSE: 15.338051319826807, CE: 0.6837761354259436, accuracy: 0.5737954845708063\n",
            "(Validation)   log-likelihood: -3.8293209043560608, RMSE: 14.263795664544539, CE: 0.6840163503246347, accuracy: 0.5696545313084159\n",
            "Time elapsed: 201.86 s\n",
            "[ Epoch 6 ]\n",
            "(Training)     log-likelihood: -3.8724604957805906, RMSE: 15.307901039662667, CE: 0.6831561164837119, accuracy: 0.5758999835388168\n",
            "(Validation)   log-likelihood: -3.786921115451389, RMSE: 14.237767776423661, CE: 0.6835854883880169, accuracy: 0.5696545313084159\n",
            "Time elapsed: 242.21 s\n",
            "[ Epoch 7 ]\n",
            "(Training)     log-likelihood: -3.8722787381329113, RMSE: 15.246441403858102, CE: 0.6834002618488864, accuracy: 0.5746151670810101\n",
            "(Validation)   log-likelihood: -3.779359010022096, RMSE: 14.34484050528027, CE: 0.6832703247890554, accuracy: 0.5696595834975294\n",
            "Time elapsed: 282.62 s\n",
            "[ Epoch 8 ]\n",
            "(Training)     log-likelihood: -3.8677630669831222, RMSE: 15.189805953320255, CE: 0.6830684273779551, accuracy: 0.5755766690162544\n",
            "(Validation)   log-likelihood: -3.820131500552399, RMSE: 14.027050487964257, CE: 0.6839425521003055, accuracy: 0.5696545313084159\n",
            "Time elapsed: 322.97 s\n",
            "[ Epoch 9 ]\n",
            "(Training)     log-likelihood: -3.8636681698312234, RMSE: 15.069706596794973, CE: 0.6831290570947173, accuracy: 0.5753563424094952\n",
            "(Validation)   log-likelihood: -3.7763638435132574, RMSE: 13.825460627039142, CE: 0.6843932527599951, accuracy: 0.5694271827983065\n",
            "Time elapsed: 363.39 s\n",
            "[ Epoch 10 ]\n",
            "(Training)     log-likelihood: -3.850534414556962, RMSE: 14.839415651103408, CE: 0.6830053220535537, accuracy: 0.5751832889444161\n",
            "(Validation)   log-likelihood: -3.7622083037405303, RMSE: 13.876838943246652, CE: 0.6840111710907266, accuracy: 0.5696545313084159\n",
            "Time elapsed: 403.81 s\n",
            "[ Epoch 11 ]\n",
            "(Training)     log-likelihood: -3.843439613001055, RMSE: 14.719201965046087, CE: 0.6829674740274712, accuracy: 0.5753757581641138\n",
            "(Validation)   log-likelihood: -3.772777590356692, RMSE: 13.895306288457116, CE: 0.6839031460119755, accuracy: 0.5696343225519618\n",
            "Time elapsed: 444.15 s\n",
            "[ Epoch 12 ]\n",
            "(Training)     log-likelihood: -3.843795803665612, RMSE: 14.66615938573134, CE: 0.6829112720458508, accuracy: 0.5752195879639205\n",
            "(Validation)   log-likelihood: -3.768836632930871, RMSE: 13.838866682985547, CE: 0.6841444225785963, accuracy: 0.5696595834975294\n",
            "Time elapsed: 484.49 s\n",
            "[ Epoch 13 ]\n",
            "(Training)     log-likelihood: -3.8363907140031643, RMSE: 14.601207131000628, CE: 0.6827369407946109, accuracy: 0.5756222538314459\n",
            "(Validation)   log-likelihood: -3.7540275459674874, RMSE: 13.799556469244418, CE: 0.6840274032217653, accuracy: 0.5696848444430972\n",
            "Time elapsed: 524.83 s\n",
            "[ Epoch 14 ]\n",
            "(Training)     log-likelihood: -3.839324980221519, RMSE: 14.559548356150993, CE: 0.6826655801472327, accuracy: 0.5759717374145812\n",
            "(Validation)   log-likelihood: -3.765918856534091, RMSE: 13.821448184722879, CE: 0.6845876584315195, accuracy: 0.5696595834975294\n",
            "Time elapsed: 565.25 s\n",
            "[ Epoch 15 ]\n",
            "(Training)     log-likelihood: -3.8327615572257385, RMSE: 14.479515073381094, CE: 0.6826457348915883, accuracy: 0.5762325838570663\n",
            "(Validation)   log-likelihood: -3.7504517883917297, RMSE: 13.735661967008028, CE: 0.6841506897106485, accuracy: 0.5696545313084159\n",
            "Time elapsed: 605.60 s\n",
            "[ Epoch 16 ]\n",
            "(Training)     log-likelihood: -3.835878721650844, RMSE: 14.474654247873898, CE: 0.6831119256920029, accuracy: 0.5746953625892175\n",
            "(Validation)   log-likelihood: -3.8400172920612374, RMSE: 13.931810839967609, CE: 0.6846528694144892, accuracy: 0.5696848444430972\n",
            "Time elapsed: 646.03 s\n",
            "[ Epoch 17 ]\n",
            "(Training)     log-likelihood: -3.8278809533227847, RMSE: 14.402832624060776, CE: 0.6825572486121428, accuracy: 0.5757733590521735\n",
            "(Validation)   log-likelihood: -3.766869051846591, RMSE: 13.749839109799932, CE: 0.6847352536467333, accuracy: 0.5696545313084159\n",
            "Time elapsed: 686.41 s\n",
            "[ Epoch 18 ]\n",
            "(Training)     log-likelihood: -3.8233694290611813, RMSE: 14.311006694429297, CE: 0.6827710304806244, accuracy: 0.5764031048324125\n",
            "(Validation)   log-likelihood: -3.7532314650410354, RMSE: 13.759215437509635, CE: 0.6842432313592378, accuracy: 0.5696545313084159\n",
            "Time elapsed: 726.76 s\n",
            "[ Epoch 19 ]\n",
            "(Training)     log-likelihood: -3.8198666996308015, RMSE: 14.27101477504353, CE: 0.6824634467422686, accuracy: 0.5762908311209222\n",
            "(Validation)   log-likelihood: -3.7582706508443815, RMSE: 13.663651775283503, CE: 0.6839898892374636, accuracy: 0.5696494791193024\n",
            "Time elapsed: 767.10 s\n",
            "[ Epoch 20 ]\n",
            "(Training)     log-likelihood: -3.812402768987342, RMSE: 14.176951028382879, CE: 0.6827598741708734, accuracy: 0.5756762802790804\n",
            "(Validation)   log-likelihood: -3.7609488241792928, RMSE: 13.664571027768577, CE: 0.6839689206791311, accuracy: 0.5696545313084159\n",
            "Time elapsed: 807.54 s\n",
            "[ Epoch 21 ]\n",
            "(Training)     log-likelihood: -3.811752775580169, RMSE: 14.153949525395815, CE: 0.6823580310327598, accuracy: 0.5768395372297095\n",
            "(Validation)   log-likelihood: -3.754546934185606, RMSE: 13.682199144985487, CE: 0.6838917674854686, accuracy: 0.5696343225519618\n",
            "Time elapsed: 847.89 s\n",
            "[ Epoch 22 ]\n",
            "(Training)     log-likelihood: -3.80443008306962, RMSE: 14.05696010271648, CE: 0.6824079759840833, accuracy: 0.5767078477636005\n",
            "(Validation)   log-likelihood: -3.7414790877525252, RMSE: 13.49730387038291, CE: 0.6837568767497152, accuracy: 0.5696696878757566\n",
            "Time elapsed: 888.23 s\n",
            "[ Epoch 23 ]\n",
            "(Training)     log-likelihood: -3.810168782964135, RMSE: 14.069434367323124, CE: 0.6822343602930935, accuracy: 0.5769188885746726\n",
            "(Validation)   log-likelihood: -3.740784820864899, RMSE: 13.588093269345562, CE: 0.6842664398529782, accuracy: 0.5696595834975294\n",
            "Time elapsed: 928.65 s\n",
            "[ Epoch 24 ]\n",
            "(Training)     log-likelihood: -3.7957416963343884, RMSE: 13.914076561658948, CE: 0.6819892866781015, accuracy: 0.5773283077481524\n",
            "(Validation)   log-likelihood: -3.733993864425505, RMSE: 13.39946877157875, CE: 0.6844864703362294, accuracy: 0.5696393747410753\n",
            "Time elapsed: 969.01 s\n",
            "[ Epoch 25 ]\n",
            "(Training)     log-likelihood: -3.7993269646624475, RMSE: 13.950299984479699, CE: 0.682106014504835, accuracy: 0.5769712266958185\n",
            "(Validation)   log-likelihood: -3.7199633937026517, RMSE: 13.252441501632473, CE: 0.6848549742472554, accuracy: 0.569609061606394\n",
            "Time elapsed: 1009.43 s\n",
            "[ Epoch 26 ]\n",
            "(Training)     log-likelihood: -3.790657654272152, RMSE: 13.789487296569291, CE: 0.6819160736529792, accuracy: 0.5773494118292596\n",
            "(Validation)   log-likelihood: -3.727749082623106, RMSE: 13.465169049041831, CE: 0.6840565778870734, accuracy: 0.5696444269301888\n",
            "Time elapsed: 1049.87 s\n",
            "[ Epoch 27 ]\n",
            "(Training)     log-likelihood: -3.781893067642405, RMSE: 13.677485409630197, CE: 0.6818432439637052, accuracy: 0.5772354497912806\n",
            "(Validation)   log-likelihood: -3.7232549321338384, RMSE: 13.258919062817649, CE: 0.6846940097259376, accuracy: 0.569664635686643\n",
            "Time elapsed: 1090.22 s\n",
            "[ Epoch 28 ]\n",
            "(Training)     log-likelihood: -3.777395200421941, RMSE: 13.578176565099922, CE: 0.6817502334968724, accuracy: 0.5774397372963984\n",
            "(Validation)   log-likelihood: -3.7136148841934973, RMSE: 13.176941071881107, CE: 0.6843203487830066, accuracy: 0.5695383309588045\n",
            "Time elapsed: 1130.58 s\n",
            "[ Epoch 29 ]\n",
            "(Training)     log-likelihood: -3.768687002241561, RMSE: 13.429986987057001, CE: 0.6817478057031668, accuracy: 0.5771409035079204\n",
            "(Validation)   log-likelihood: -3.7333243864425505, RMSE: 13.510529739965488, CE: 0.6841140440713508, accuracy: 0.5696393747410753\n",
            "Time elapsed: 1171.02 s\n",
            "[ Epoch 30 ]\n",
            "(Training)     log-likelihood: -3.77021334717827, RMSE: 13.447142234808021, CE: 0.6816402449616644, accuracy: 0.5773857108487639\n",
            "(Validation)   log-likelihood: -3.716953588620581, RMSE: 13.210149227447282, CE: 0.6840289770970848, accuracy: 0.5695181222023503\n",
            "Time elapsed: 1211.38 s\n",
            "[ Epoch 31 ]\n",
            "(Training)     log-likelihood: -3.766873994593882, RMSE: 13.38988324552019, CE: 0.6816934651674503, accuracy: 0.5772286964853264\n",
            "(Validation)   log-likelihood: -3.7302809244791666, RMSE: 13.526618581817289, CE: 0.6839915691890195, accuracy: 0.5693817130962846\n",
            "Time elapsed: 1251.74 s\n",
            "[ Epoch 32 ]\n",
            "(Training)     log-likelihood: -3.758509229957806, RMSE: 13.277921804672856, CE: 0.6816093134684135, accuracy: 0.5771586309360505\n",
            "(Validation)   log-likelihood: -3.7039800199258206, RMSE: 12.971027324239234, CE: 0.6839410744336654, accuracy: 0.5693412955833763\n",
            "Time elapsed: 1292.09 s\n",
            "[ Epoch 33 ]\n",
            "(Training)     log-likelihood: -3.7564152821729957, RMSE: 13.167479471718348, CE: 0.6815875061927288, accuracy: 0.577634739005829\n",
            "(Validation)   log-likelihood: -3.6918518485637626, RMSE: 12.876532089423534, CE: 0.6842918377108973, accuracy: 0.5696040094172805\n",
            "Time elapsed: 1332.51 s\n",
            "[ Epoch 34 ]\n",
            "(Training)     log-likelihood: -3.7493463475738396, RMSE: 13.08792296951866, CE: 0.6813129824920543, accuracy: 0.5777208436567464\n",
            "(Validation)   log-likelihood: -3.6949091057054924, RMSE: 13.057550021357274, CE: 0.6848162527206828, accuracy: 0.5695282265805773\n",
            "Time elapsed: 1372.94 s\n",
            "[ Epoch 35 ]\n",
            "(Training)     log-likelihood: -3.7446706322521095, RMSE: 12.98192169920056, CE: 0.6813414441483131, accuracy: 0.5776533105972033\n",
            "(Validation)   log-likelihood: -3.6873167219065657, RMSE: 12.810083065075164, CE: 0.6848302140801984, accuracy: 0.569609061606394\n",
            "Time elapsed: 1413.31 s\n",
            "[ Epoch 36 ]\n",
            "(Training)     log-likelihood: -3.7390204707278483, RMSE: 12.88994144028237, CE: 0.6812332412162176, accuracy: 0.5777647401454493\n",
            "(Validation)   log-likelihood: -3.6982512034406567, RMSE: 12.880424362754072, CE: 0.6843255921560344, accuracy: 0.5694574959329878\n",
            "Time elapsed: 1453.74 s\n",
            "[ Epoch 37 ]\n",
            "(Training)     log-likelihood: -3.7387334454113925, RMSE: 12.871283110100203, CE: 0.6813501141335087, accuracy: 0.5772548655458992\n",
            "(Validation)   log-likelihood: -3.6723368104876895, RMSE: 12.623447375568206, CE: 0.6844569207037605, accuracy: 0.569664635686643\n",
            "Time elapsed: 1494.09 s\n",
            "[ Epoch 38 ]\n",
            "(Training)     log-likelihood: -3.7313001549314344, RMSE: 12.710391143247248, CE: 0.6810552027363551, accuracy: 0.5777503893702964\n",
            "(Validation)   log-likelihood: -3.662643687855114, RMSE: 12.459856517479473, CE: 0.6847156147416879, accuracy: 0.5696292703628483\n",
            "Time elapsed: 1534.52 s\n",
            "[ Epoch 39 ]\n",
            "(Training)     log-likelihood: -3.7290583399261603, RMSE: 12.650575388434314, CE: 0.680937211962268, accuracy: 0.5777546101865179\n",
            "(Validation)   log-likelihood: -3.6705107372553663, RMSE: 12.626442411384511, CE: 0.6838283721329617, accuracy: 0.5695838006608264\n",
            "Time elapsed: 1574.96 s\n",
            "[ Epoch 40 ]\n",
            "(Training)     log-likelihood: -3.7229355221518987, RMSE: 12.533592731985776, CE: 0.680897538762921, accuracy: 0.5777976625119766\n",
            "(Validation)   log-likelihood: -3.668311730587121, RMSE: 12.349941644776772, CE: 0.6835637267248016, accuracy: 0.569255408368446\n",
            "Time elapsed: 1615.33 s\n",
            "[ Epoch 41 ]\n",
            "(Training)     log-likelihood: -3.722931015954641, RMSE: 12.504617277324002, CE: 0.6808499094898721, accuracy: 0.5778170782665952\n",
            "(Validation)   log-likelihood: -3.665565345841225, RMSE: 12.5792971161196, CE: 0.6840519808390202, accuracy: 0.568957329210747\n",
            "Time elapsed: 1655.75 s\n",
            "[ Epoch 42 ]\n",
            "(Training)     log-likelihood: -3.7208013416402954, RMSE: 12.474404628563018, CE: 0.6807097783913203, accuracy: 0.5778246757357938\n",
            "(Validation)   log-likelihood: -3.6572618272569444, RMSE: 12.397450821474395, CE: 0.6839148193317438, accuracy: 0.5696545313084159\n",
            "Time elapsed: 1696.10 s\n",
            "[ Epoch 43 ]\n",
            "(Training)     log-likelihood: -3.71783053467827, RMSE: 12.427305292459101, CE: 0.6807003582219917, accuracy: 0.5778145457768623\n",
            "(Validation)   log-likelihood: -3.689116822522096, RMSE: 12.619648669506676, CE: 0.683620302362072, accuracy: 0.5696444269301888\n",
            "Time elapsed: 1736.45 s\n",
            "[ Epoch 44 ]\n",
            "(Training)     log-likelihood: -3.7200023668248945, RMSE: 12.463322486718964, CE: 0.6808406937663293, accuracy: 0.5777394152481207\n",
            "(Validation)   log-likelihood: -3.668636235400884, RMSE: 12.498864718393996, CE: 0.6843189932273827, accuracy: 0.569598957228167\n",
            "Time elapsed: 1776.81 s\n",
            "[ Epoch 45 ]\n",
            "(Training)     log-likelihood: -3.7132114253691983, RMSE: 12.312284645832868, CE: 0.6806861591324218, accuracy: 0.578106626259386\n",
            "(Validation)   log-likelihood: -3.686871818773674, RMSE: 12.618494355656004, CE: 0.6839439088893741, accuracy: 0.5691088948841533\n",
            "Time elapsed: 1817.17 s\n",
            "[ Epoch 46 ]\n",
            "(Training)     log-likelihood: -3.7095349320938817, RMSE: 12.2515116545112, CE: 0.6805088518759945, accuracy: 0.5779935083846515\n",
            "(Validation)   log-likelihood: -3.65520715948548, RMSE: 12.274079808685222, CE: 0.683882652329817, accuracy: 0.5696595834975294\n",
            "Time elapsed: 1857.53 s\n",
            "[ Epoch 47 ]\n",
            "(Training)     log-likelihood: -3.7029411623154007, RMSE: 12.122190921024174, CE: 0.680480813125736, accuracy: 0.577851688959611\n",
            "(Validation)   log-likelihood: -3.6485790522411614, RMSE: 12.279050834977403, CE: 0.6839448586417222, accuracy: 0.569598957228167\n",
            "Time elapsed: 1897.96 s\n",
            "[ Epoch 48 ]\n",
            "(Training)     log-likelihood: -3.7011394547732066, RMSE: 12.085936132009632, CE: 0.6804338400577091, accuracy: 0.5780179891187358\n",
            "(Validation)   log-likelihood: -3.6474856080334597, RMSE: 12.19963285070201, CE: 0.684614061546794, accuracy: 0.5694676003112148\n",
            "Time elapsed: 1938.30 s\n",
            "[ Epoch 49 ]\n",
            "(Training)     log-likelihood: -3.7025070345464135, RMSE: 12.106743977347229, CE: 0.6803239858961426, accuracy: 0.5779023387542683\n",
            "(Validation)   log-likelihood: -3.6479882417929295, RMSE: 12.229545225877796, CE: 0.6844694697692002, accuracy: 0.5693311912051492\n",
            "Time elapsed: 1978.72 s\n",
            "[ Epoch 50 ]\n",
            "(Training)     log-likelihood: -3.6955659612341774, RMSE: 11.970088718548311, CE: 0.6802098350755632, accuracy: 0.5781184445448061\n",
            "(Validation)   log-likelihood: -3.6519734355271463, RMSE: 12.290868648561494, CE: 0.6840593987748915, accuracy: 0.5691695211535158\n",
            "Time elapsed: 2019.07 s\n"
          ],
          "name": "stdout"
        }
      ]
    },
    {
      "cell_type": "code",
      "metadata": {
        "colab": {
          "base_uri": "https://localhost:8080/",
          "height": 851
        },
        "id": "RvSgtEiblLse",
        "outputId": "fc46adb6-cd52-485d-c31f-6eddd0c1614b"
      },
      "source": [
        "# If model was trained, output plots\r\n",
        "\r\n",
        "if TRAIN_MODEL:\r\n",
        "    epochs = list(range(1, n_epochs + 1))\r\n",
        "\r\n",
        "    plt.plot(epochs, train_history['log-likelihood'], c='r', label='train')\r\n",
        "    plt.plot(epochs, val_history['log-likelihood'], c='b', label='val')\r\n",
        "    plt.title(\"Log-likelihood progression\")\r\n",
        "    plt.xlabel(\"Epoch\")\r\n",
        "    plt.ylabel(\"Log-likelihood\")\r\n",
        "    plt.legend()\r\n",
        "    plt.show()\r\n",
        "\r\n",
        "    plt.plot(epochs, train_history['cross entropy'], c='r', label='train')\r\n",
        "    plt.plot(epochs, val_history['cross entropy'], c='b', label='val')\r\n",
        "    plt.title(\"Cross entropy progression\")\r\n",
        "    plt.xlabel(\"Epoch\")\r\n",
        "    plt.ylabel(\"Cross entropy\")\r\n",
        "    plt.legend()\r\n",
        "    plt.show()\r\n",
        "\r\n",
        "    plt.plot(epochs, train_history['accuracy'], c='r', label='train')\r\n",
        "    plt.plot(epochs, val_history['accuracy'], c='b', label='val')\r\n",
        "    plt.title(\"Accuracy progression\")\r\n",
        "    plt.xlabel(\"Epoch\")\r\n",
        "    plt.ylabel(\"Accuracy\")\r\n",
        "    plt.legend()\r\n",
        "    plt.show()"
      ],
      "execution_count": 10,
      "outputs": [
        {
          "output_type": "display_data",
          "data": {
            "image/png": "[encoded data removed]",
            "text/plain": [
              "<Figure size 432x288 with 1 Axes>"
            ]
          },
          "metadata": {
            "tags": [],
            "needs_background": "light"
          }
        },
        {
          "output_type": "display_data",
          "data": {
            "image/png": "[encoded data removed]",
            "text/plain": [
              "<Figure size 432x288 with 1 Axes>"
            ]
          },
          "metadata": {
            "tags": [],
            "needs_background": "light"
          }
        },
        {
          "output_type": "display_data",
          "data": {
            "image/png": "[encoded data removed]",
            "text/plain": [
              "<Figure size 432x288 with 1 Axes>"
            ]
          },
          "metadata": {
            "tags": [],
            "needs_background": "light"
          }
        }
      ]
    },
    {
      "cell_type": "code",
      "metadata": {
        "id": "JA81IpH7i4Nw"
      },
      "source": [
        "model.eval()\r\n",
        "test_ll, test_mse, test_ce, test_accuracy = run_epoch(model, test_loader, GLOBAL_DEVICE)"
      ],
      "execution_count": 11,
      "outputs": []
    },
    {
      "cell_type": "code",
      "metadata": {
        "colab": {
          "base_uri": "https://localhost:8080/"
        },
        "id": "cGte4OPNluCu",
        "outputId": "8cb34d93-0e48-4d9c-a6ac-79d8c9e77471"
      },
      "source": [
        "print(\"Test Log-Likelihood:\", test_ll)\r\n",
        "print(\"Test RMSE:\", np.sqrt(test_mse))\r\n",
        "print(\"Test CrossEntropy:\", test_ce)\r\n",
        "print(\"Test accuracy:\", test_accuracy)"
      ],
      "execution_count": 12,
      "outputs": [
        {
          "output_type": "stream",
          "text": [
            "Test Log-Likelihood: -3.939160974984217\n",
            "Test RMSE: 15.495815937487857\n",
            "Test CrossEntropy: 0.6834320836487005\n",
            "Test accuracy: 0.5699930279790233\n"
          ],
          "name": "stdout"
        }
      ]
    }
  ]
}
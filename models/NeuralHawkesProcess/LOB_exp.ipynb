{
  "nbformat": 4,
  "nbformat_minor": 0,
  "metadata": {
    "colab": {
      "name": "LOB_exp.ipynb",
      "provenance": [],
      "machine_shape": "hm"
    },
    "kernelspec": {
      "name": "python3",
      "display_name": "Python 3"
    },
    "accelerator": "GPU"
  },
  "cells": [
    {
      "cell_type": "code",
      "metadata": {
        "id": "1yzMH-mjkbhk"
      },
      "source": [
        "import numpy as np\r\n",
        "import matplotlib.pyplot as plt\r\n",
        "import torch\r\n",
        "from torch import nn\r\n",
        "import torch.nn.functional as F\r\n",
        "from torch.utils.data import Dataset, DataLoader"
      ],
      "execution_count": 1,
      "outputs": []
    },
    {
      "cell_type": "code",
      "metadata": {
        "colab": {
          "base_uri": "https://localhost:8080/"
        },
        "id": "hZAWRGcckgyp",
        "outputId": "3d812b18-7ef2-46d2-d77d-3da2d1299f0a"
      },
      "source": [
        "!git clone https://github.com/rodrigorivera/mds20_deepfolio\r\n",
        "\r\n",
        "from mds20_deepfolio.models.NeuralHawkesProcess.DataWrapper import prepare_datasets, collate_fn\r\n",
        "from mds20_deepfolio.models.NeuralHawkesProcess.model import NHPModel\r\n",
        "from mds20_deepfolio.models.NeuralHawkesProcess.train import train\r\n",
        "\r\n",
        "!unzip //content/mds20_deepfolio/datasets/data/ETH.zip \\\r\n",
        "      -d //content/mds20_deepfolio/datasets/data/"
      ],
      "execution_count": 2,
      "outputs": [
        {
          "output_type": "stream",
          "text": [
            "Cloning into 'mds20_deepfolio'...\n",
            "remote: Enumerating objects: 77, done.\u001b[K\n",
            "remote: Counting objects: 100% (77/77), done.\u001b[K\n",
            "remote: Compressing objects: 100% (77/77), done.\u001b[K\n",
            "remote: Total 1065 (delta 42), reused 0 (delta 0), pack-reused 988\u001b[K\n",
            "Receiving objects: 100% (1065/1065), 112.66 MiB | 23.40 MiB/s, done.\n",
            "Resolving deltas: 100% (649/649), done.\n",
            "Archive:  //content/mds20_deepfolio/datasets/data/ETH.zip\n",
            "  inflating: //content/mds20_deepfolio/datasets/data/ETH.npy  \n"
          ],
          "name": "stdout"
        }
      ]
    },
    {
      "cell_type": "code",
      "metadata": {
        "id": "m6vy41_zpaYX"
      },
      "source": [
        "device = torch.device(\"cuda:0\" if torch.cuda.is_available() else \"cpu\")\r\n",
        "DO_TRAIN = False\r\n",
        "\r\n",
        "if DO_TRAIN:\r\n",
        "    train_dsets, val_dsets, test_dsets = prepare_datasets('/content/mds20_deepfolio/datasets/data/')\r\n",
        "\r\n",
        "    train_dataset = torch.utils.data.ConcatDataset([dset for dset in train_dsets.values()]) \r\n",
        "    val_dataset = torch.utils.data.ConcatDataset([dset for dset in val_dsets.values()]) \r\n",
        "      \r\n",
        "    train_loader = DataLoader(train_dataset, batch_size=32, collate_fn=collate_fn)\r\n",
        "    val_loader = DataLoader(val_dataset, batch_size=32, collate_fn=collate_fn)\r\n",
        "\r\n",
        "    print(len(train_dataset), len(val_dataset))"
      ],
      "execution_count": 4,
      "outputs": []
    },
    {
      "cell_type": "code",
      "metadata": {
        "colab": {
          "base_uri": "https://localhost:8080/"
        },
        "id": "hl1oEYjSyEnr",
        "outputId": "a6cc8e81-5e88-4e02-e985-2a486ac4f898"
      },
      "source": [
        "model = NHPModel(256, device=device).to(device)\r\n",
        "\r\n",
        "if DO_TRAIN:\r\n",
        "\r\n",
        "    optimizer = torch.optim.Adam(model.parameters(), lr=0.001)\r\n",
        "    scheduler = torch.optim.lr_scheduler.ReduceLROnPlateau(optimizer, factor=0.5, threshold=0.001, patience=10, verbose=True)\r\n",
        "\r\n",
        "    statiscs = train(model, optimizer, train_loader, val_loader, device,scheduler=scheduler, \r\n",
        "                    n_epochs = 50, verbose_epoch=10, scale=0.001, save_path='/content/model.pth')\r\n",
        "\r\n",
        "else:\r\n",
        "    model.load_state_dict(torch.load('/content/mds20_deepfolio/models/NeuralHawkesProcess/weights/NHP,all,256.pth'))"
      ],
      "execution_count": null,
      "outputs": [
        {
          "output_type": "stream",
          "text": [
            "Epoch: 0\n",
            "Log-Likelihood:: train: -12.435624222252049 , val: -8.78149696429415\n",
            "Time MSE:: train: 1475.8141149902344 , val: 1892.9773763020833\n",
            "Event CE:: train: 0.648451828956604 , val: 0.624378071890937\n",
            "Event pred accuracy:: train: 0.6176864692982456 , val: 0.6983620370370371\n",
            "time: 238.26966428756714\n",
            "------------------------------------------------------------\n",
            "Epoch: 10\n",
            "Log-Likelihood:: train: -8.583953379369097 , val: -8.805317628000118\n",
            "Time MSE:: train: 910.7218176269531 , val: 1207.1437276204426\n",
            "Event CE:: train: 0.6023679351806641 , val: 0.6134296655654907\n",
            "Event pred accuracy:: train: 0.7111568859649121 , val: 0.6983620370370371\n",
            "time: 2602.355491876602\n",
            "------------------------------------------------------------\n",
            "Epoch: 20\n",
            "Log-Likelihood:: train: -8.576123357546637 , val: -8.797698699730997\n",
            "Time MSE:: train: 870.18255859375 , val: 1121.2044338650173\n",
            "Event CE:: train: 0.6006509304046631 , val: 0.6112796266873678\n",
            "Event pred accuracy:: train: 0.7111568859649121 , val: 0.6983620370370371\n",
            "time: 4942.085604190826\n",
            "------------------------------------------------------------\n",
            "Epoch: 30\n",
            "Log-Likelihood:: train: -8.570897375588908 , val: -8.797743404656941\n",
            "Time MSE:: train: 867.5081848144531 , val: 1111.488986545139\n",
            "Event CE:: train: 0.5998941111564636 , val: 0.6108551555209689\n",
            "Event pred accuracy:: train: 0.7111568859649121 , val: 0.6983620370370371\n",
            "time: 7288.211148262024\n",
            "------------------------------------------------------------\n",
            "Epoch: 40\n",
            "Log-Likelihood:: train: -8.570725418930666 , val: -8.794943950675446\n",
            "Time MSE:: train: 866.5614343261718 , val: 1107.853224012587\n",
            "Event CE:: train: 0.5994709014892579 , val: 0.6100122729937235\n",
            "Event pred accuracy:: train: 0.7111568859649121 , val: 0.6983620370370371\n",
            "time: 9624.815021753311\n",
            "------------------------------------------------------------\n"
          ],
          "name": "stdout"
        }
      ]
    },
    {
      "cell_type": "markdown",
      "metadata": {
        "id": "RgVgQZv5050z"
      },
      "source": [
        "# Evaluate model on test datasets"
      ]
    },
    {
      "cell_type": "code",
      "metadata": {
        "id": "-rrHOc7v1SyH"
      },
      "source": [
        "from sklearn.metrics import accuracy_score\r\n",
        "model = NHPModel(256, device=device).to(device)\r\n",
        "model.load_state_dict(torch.load('/content/mds20_deepfolio/models/NeuralHawkesProcess/weights/NHP,all,256.pth'))\r\n",
        "train_dsets, val_dsets, test_dsets = prepare_datasets('/content/mds20_deepfolio/datasets/data/')"
      ],
      "execution_count": 5,
      "outputs": []
    },
    {
      "cell_type": "code",
      "metadata": {
        "id": "t2BWa__ACGU9"
      },
      "source": [
        "stats = {}\r\n",
        "\r\n",
        "for name, test_dset in test_dsets.items():\r\n",
        "    test_loader = DataLoader(test_dset, batch_size=12, collate_fn=collate_fn)\r\n",
        "    loss_time, type_acc,loss_llh,loss_event = 0, 0, 0, 0\r\n",
        "    for event_seq, time_seq in test_loader:\r\n",
        "\r\n",
        "        event_seq = event_seq.to(device)\r\n",
        "        time_seq = time_seq.to(device)\r\n",
        "        \r\n",
        "        intens, time, event = model.forward(event_seq, time_seq)\r\n",
        "\r\n",
        "        loss_llh += (model.LogLikelihoodLoss(intens, time_seq) / (time_seq.shape[0] * time_seq.shape[1])).detach().cpu().numpy()\r\n",
        "        loss_time += model.time_loss(time, time_seq).detach().cpu().numpy()\r\n",
        "        loss_event += model.event_loss(event, event_seq).detach().cpu().numpy()\r\n",
        "        type_acc += accuracy_score(event[:,:-1].argmax(dim=2).cpu().reshape(-1), \r\n",
        "                                                      event_seq[:, 1:].cpu().reshape(-1))\r\n",
        "        \r\n",
        "    stats[name] = (loss_llh/len(test_loader), loss_time/len(test_loader), loss_event/len(test_loader), type_acc/len(test_loader))\r\n",
        "    \r\n"
      ],
      "execution_count": 14,
      "outputs": []
    },
    {
      "cell_type": "code",
      "metadata": {
        "colab": {
          "base_uri": "https://localhost:8080/",
          "height": 204
        },
        "id": "N-E_TO209Q5o",
        "outputId": "425ecf40-83a6-44d9-d0ef-00cba567767f"
      },
      "source": [
        "import pandas as pd\r\n",
        "\r\n",
        "df = pd.DataFrame(stats, index=['LL', 'MSE', 'ce', 'acc'])\r\n",
        "for indx in df.columns:\r\n",
        "    df[indx]['MSE'] = df[indx]['MSE']**0.5\r\n",
        "    df[indx]['LL'] = -df[indx]['LL']\r\n",
        "df.T"
      ],
      "execution_count": 38,
      "outputs": [
        {
          "output_type": "execute_result",
          "data": {
            "text/html": [
              "<div>\n",
              "<style scoped>\n",
              "    .dataframe tbody tr th:only-of-type {\n",
              "        vertical-align: middle;\n",
              "    }\n",
              "\n",
              "    .dataframe tbody tr th {\n",
              "        vertical-align: top;\n",
              "    }\n",
              "\n",
              "    .dataframe thead th {\n",
              "        text-align: right;\n",
              "    }\n",
              "</style>\n",
              "<table border=\"1\" class=\"dataframe\">\n",
              "  <thead>\n",
              "    <tr style=\"text-align: right;\">\n",
              "      <th></th>\n",
              "      <th>LL</th>\n",
              "      <th>MSE</th>\n",
              "      <th>ce</th>\n",
              "      <th>acc</th>\n",
              "    </tr>\n",
              "  </thead>\n",
              "  <tbody>\n",
              "    <tr>\n",
              "      <th>EOS</th>\n",
              "      <td>-9.060723</td>\n",
              "      <td>52.455442</td>\n",
              "      <td>0.616969</td>\n",
              "      <td>0.707163</td>\n",
              "    </tr>\n",
              "    <tr>\n",
              "      <th>XRP</th>\n",
              "      <td>-10.347733</td>\n",
              "      <td>71.850620</td>\n",
              "      <td>0.618255</td>\n",
              "      <td>0.706636</td>\n",
              "    </tr>\n",
              "    <tr>\n",
              "      <th>BNB</th>\n",
              "      <td>-11.232201</td>\n",
              "      <td>78.106731</td>\n",
              "      <td>0.619800</td>\n",
              "      <td>0.703472</td>\n",
              "    </tr>\n",
              "    <tr>\n",
              "      <th>ETH</th>\n",
              "      <td>-7.922001</td>\n",
              "      <td>22.570457</td>\n",
              "      <td>0.619801</td>\n",
              "      <td>0.703517</td>\n",
              "    </tr>\n",
              "    <tr>\n",
              "      <th>LTC</th>\n",
              "      <td>-9.110211</td>\n",
              "      <td>43.744799</td>\n",
              "      <td>0.617133</td>\n",
              "      <td>0.706433</td>\n",
              "    </tr>\n",
              "  </tbody>\n",
              "</table>\n",
              "</div>"
            ],
            "text/plain": [
              "            LL        MSE        ce       acc\n",
              "EOS  -9.060723  52.455442  0.616969  0.707163\n",
              "XRP -10.347733  71.850620  0.618255  0.706636\n",
              "BNB -11.232201  78.106731  0.619800  0.703472\n",
              "ETH  -7.922001  22.570457  0.619801  0.703517\n",
              "LTC  -9.110211  43.744799  0.617133  0.706433"
            ]
          },
          "metadata": {
            "tags": []
          },
          "execution_count": 38
        }
      ]
    },
    {
      "cell_type": "markdown",
      "metadata": {
        "id": "l6KOmaxy4TMF"
      },
      "source": [
        "# Train and Evaluate model using only LogLike loss and prediction using probability function"
      ]
    },
    {
      "cell_type": "code",
      "metadata": {
        "id": "pJFzAgpvHtAI"
      },
      "source": [
        "model = NHPModel(256, device=device).to(device)\r\n",
        "\r\n",
        "if DO_TRAIN:\r\n",
        "\r\n",
        "    optimizer = torch.optim.Adam(model.parameters(), lr=0.001)\r\n",
        "    scheduler = torch.optim.lr_scheduler.ReduceLROnPlateau(optimizer, factor=0.5, threshold=0.001, patience=10, verbose=True)\r\n",
        "\r\n",
        "    statiscs = train(model, optimizer, train_loader, val_loader, device,scheduler=scheduler, \r\n",
        "                    n_epochs = 50, verbose_epoch=10, scale=None, save_path=None)\r\n",
        "\r\n",
        "else:\r\n",
        "    # load model trained only with LogLike loss\r\n",
        "    model.load_state_dict(torch.load('/content/mds20_deepfolio/models/NeuralHawkesProcess/weights/ALL,llh_only.pth'))"
      ],
      "execution_count": null,
      "outputs": []
    },
    {
      "cell_type": "code",
      "metadata": {
        "id": "3EIvUEFxtRC5"
      },
      "source": [
        "stats = {}\r\n",
        "\r\n",
        "for name, test_dset in test_dsets.items():\r\n",
        "    test_loader = DataLoader(test_dset, batch_size=12, collate_fn=collate_fn)\r\n",
        "    loss_time, type_acc,loss_llh,loss_event = 0, 0, 0, 0\r\n",
        "    for event_seq, time_seq in test_loader:\r\n",
        "\r\n",
        "        event_seq = event_seq.to(device)\r\n",
        "        time_seq = time_seq.to(device)\r\n",
        "      \r\n",
        "        intens, time, event = model.forward(event_seq, time_seq)\r\n",
        "        loss_llh += (model.LogLikelihoodLoss(intens, time_seq) / (time_seq.shape[0] * time_seq.shape[1])).item()\r\n",
        "        \r\n",
        "    stats[name] = loss_llh/len(test_loader)\r\n",
        "  "
      ],
      "execution_count": 12,
      "outputs": []
    },
    {
      "cell_type": "code",
      "metadata": {
        "colab": {
          "base_uri": "https://localhost:8080/",
          "height": 204
        },
        "id": "B8cSYyGl5hkm",
        "outputId": "83972437-f17f-4689-c89d-f4e7dc9946f5"
      },
      "source": [
        "import pandas as pd\r\n",
        "\r\n",
        "df = pd.DataFrame(stats, index=['LL'])\r\n",
        "for indx in df.columns:\r\n",
        "    df[indx]['LL'] = -df[indx]['LL']"
      ],
      "execution_count": 14,
      "outputs": [
        {
          "output_type": "execute_result",
          "data": {
            "text/html": [
              "<div>\n",
              "<style scoped>\n",
              "    .dataframe tbody tr th:only-of-type {\n",
              "        vertical-align: middle;\n",
              "    }\n",
              "\n",
              "    .dataframe tbody tr th {\n",
              "        vertical-align: top;\n",
              "    }\n",
              "\n",
              "    .dataframe thead th {\n",
              "        text-align: right;\n",
              "    }\n",
              "</style>\n",
              "<table border=\"1\" class=\"dataframe\">\n",
              "  <thead>\n",
              "    <tr style=\"text-align: right;\">\n",
              "      <th></th>\n",
              "      <th>LL</th>\n",
              "    </tr>\n",
              "  </thead>\n",
              "  <tbody>\n",
              "    <tr>\n",
              "      <th>EOS</th>\n",
              "      <td>-9.075202</td>\n",
              "    </tr>\n",
              "    <tr>\n",
              "      <th>XRP</th>\n",
              "      <td>-10.398117</td>\n",
              "    </tr>\n",
              "    <tr>\n",
              "      <th>BNB</th>\n",
              "      <td>-11.307566</td>\n",
              "    </tr>\n",
              "    <tr>\n",
              "      <th>ETH</th>\n",
              "      <td>-7.904173</td>\n",
              "    </tr>\n",
              "    <tr>\n",
              "      <th>LTC</th>\n",
              "      <td>-9.126090</td>\n",
              "    </tr>\n",
              "  </tbody>\n",
              "</table>\n",
              "</div>"
            ],
            "text/plain": [
              "            LL\n",
              "EOS  -9.075202\n",
              "XRP -10.398117\n",
              "BNB -11.307566\n",
              "ETH  -7.904173\n",
              "LTC  -9.126090"
            ]
          },
          "metadata": {
            "tags": []
          },
          "execution_count": 14
        }
      ]
    },
    {
      "cell_type": "code",
      "metadata": {
        "id": "EcyFvk-0zolt"
      },
      "source": [
        "from mds20_deepfolio.models.NeuralHawkesProcess.utils import predict_event\r\n",
        "\r\n",
        "stats = {}\r\n",
        "for name, test_dset in test_dsets.items():\r\n",
        "    test_loader = DataLoader(test_dset, batch_size=12, collate_fn=collate_fn)\r\n",
        "    acc = []\r\n",
        "    print(name)\r\n",
        "    for event, time in test_loader:\r\n",
        "        for i in range(time.shape[0]):\r\n",
        "          \r\n",
        "            # Make prediction like it was suggested in the paper\r\n",
        "            times_gt, times_pred, types_gt, types_pred = predict_event(model, time[i,:], event[i,:], device)\r\n",
        "            acc.append([accuracy_score(types_gt, types_pred), mean_squared_error(times_gt, times_pred)])\r\n",
        "\r\n",
        "    stats[name] = acc"
      ],
      "execution_count": null,
      "outputs": []
    },
    {
      "cell_type": "code",
      "metadata": {
        "colab": {
          "base_uri": "https://localhost:8080/",
          "height": 204
        },
        "id": "SxuTxE5bDZOg",
        "outputId": "d07ce581-1b31-4fa6-9fa3-9a1fde014a85"
      },
      "source": [
        "ss ={}\r\n",
        "for n, _ in test_dsets.items():\r\n",
        "    ss[n] = [df[n].values[0], np.array(stats[n])[:,0].mean(), np.array(stats[n])[:,1].mean()**0.5]\r\n",
        "df1 = pd.DataFrame(ss, index=['LL','acc', 'rmse'])\r\n",
        "df1.T"
      ],
      "execution_count": 61,
      "outputs": [
        {
          "output_type": "execute_result",
          "data": {
            "text/html": [
              "<div>\n",
              "<style scoped>\n",
              "    .dataframe tbody tr th:only-of-type {\n",
              "        vertical-align: middle;\n",
              "    }\n",
              "\n",
              "    .dataframe tbody tr th {\n",
              "        vertical-align: top;\n",
              "    }\n",
              "\n",
              "    .dataframe thead th {\n",
              "        text-align: right;\n",
              "    }\n",
              "</style>\n",
              "<table border=\"1\" class=\"dataframe\">\n",
              "  <thead>\n",
              "    <tr style=\"text-align: right;\">\n",
              "      <th></th>\n",
              "      <th>LL</th>\n",
              "      <th>acc</th>\n",
              "      <th>rmse</th>\n",
              "    </tr>\n",
              "  </thead>\n",
              "  <tbody>\n",
              "    <tr>\n",
              "      <th>EOS</th>\n",
              "      <td>-9.075202</td>\n",
              "      <td>0.450751</td>\n",
              "      <td>53.112944</td>\n",
              "    </tr>\n",
              "    <tr>\n",
              "      <th>XRP</th>\n",
              "      <td>-10.398117</td>\n",
              "      <td>0.457173</td>\n",
              "      <td>73.989308</td>\n",
              "    </tr>\n",
              "    <tr>\n",
              "      <th>BNB</th>\n",
              "      <td>-11.307566</td>\n",
              "      <td>0.467208</td>\n",
              "      <td>77.652723</td>\n",
              "    </tr>\n",
              "    <tr>\n",
              "      <th>ETH</th>\n",
              "      <td>-7.904173</td>\n",
              "      <td>0.447487</td>\n",
              "      <td>23.808629</td>\n",
              "    </tr>\n",
              "    <tr>\n",
              "      <th>LTC</th>\n",
              "      <td>-9.126090</td>\n",
              "      <td>0.465304</td>\n",
              "      <td>43.965744</td>\n",
              "    </tr>\n",
              "  </tbody>\n",
              "</table>\n",
              "</div>"
            ],
            "text/plain": [
              "            LL       acc       rmse\n",
              "EOS  -9.075202  0.450751  53.112944\n",
              "XRP -10.398117  0.457173  73.989308\n",
              "BNB -11.307566  0.467208  77.652723\n",
              "ETH  -7.904173  0.447487  23.808629\n",
              "LTC  -9.126090  0.465304  43.965744"
            ]
          },
          "metadata": {
            "tags": []
          },
          "execution_count": 61
        }
      ]
    },
    {
      "cell_type": "markdown",
      "metadata": {
        "id": "ASooC7hvNOvg"
      },
      "source": [
        "# Evaluate model on dataset from original paper"
      ]
    },
    {
      "cell_type": "code",
      "metadata": {
        "colab": {
          "base_uri": "https://localhost:8080/"
        },
        "id": "dlrBR-ihMZLZ",
        "outputId": "5668d947-b024-4cd7-ddf6-ca3825bbc578"
      },
      "source": [
        "from mds20_deepfolio.models.NeuralHawkesProcess.DataWrapper import NHPDataset, collate_fn\r\n",
        "\r\n",
        "!unzip /content/mds20_deepfolio/models/NeuralHawkesProcess/data/fin_data.zip \\\r\n",
        "      -d /content/mds20_deepfolio/models/NeuralHawkesProcess/data"
      ],
      "execution_count": 67,
      "outputs": [
        {
          "output_type": "stream",
          "text": [
            "Archive:  /content/mds20_deepfolio/models/NeuralHawkesProcess/data/fin_data.zip\n",
            "  inflating: /content/mds20_deepfolio/models/NeuralHawkesProcess/data/test.pkl  \n",
            "  inflating: /content/mds20_deepfolio/models/NeuralHawkesProcess/data/dev.pkl  \n",
            "  inflating: /content/mds20_deepfolio/models/NeuralHawkesProcess/data/train.pkl  \n"
          ],
          "name": "stdout"
        }
      ]
    },
    {
      "cell_type": "code",
      "metadata": {
        "colab": {
          "base_uri": "https://localhost:8080/"
        },
        "id": "0V63QSbbLtNn",
        "outputId": "f404f707-b41e-4eec-e3cf-f92708bdf9ae"
      },
      "source": [
        "train_dataset = NHPDataset('/content/mds20_deepfolio/models/NeuralHawkesProcess/data/train.pkl')\r\n",
        "val_dataset = NHPDataset('/content/mds20_deepfolio/models/NeuralHawkesProcess/data/dev.pkl')\r\n",
        "test_dataset = NHPDataset('/content/mds20_deepfolio/models/NeuralHawkesProcess/data/test.pkl')\r\n",
        "\r\n",
        "train_loader = DataLoader(train_dataset, batch_size=12, collate_fn=collate_fn)\r\n",
        "val_loader = DataLoader(val_dataset, batch_size=12, collate_fn=collate_fn)\r\n",
        "test_loader = DataLoader(test_dataset, batch_size=12, collate_fn=collate_fn)\r\n",
        "\r\n",
        "print('lenght of train_dataset:', len(train_dataset))\r\n",
        "print('lenght of val_dataset:', len(val_dataset))\r\n",
        "print('lenght of test_dataset:', len(test_dataset))\r\n"
      ],
      "execution_count": 68,
      "outputs": [
        {
          "output_type": "stream",
          "text": [
            "lenght of train_dataset: 90\n",
            "lenght of val_dataset: 10\n",
            "lenght of test_dataset: 100\n"
          ],
          "name": "stdout"
        }
      ]
    },
    {
      "cell_type": "code",
      "metadata": {
        "id": "H1GAh_C5MW0X"
      },
      "source": [
        "model = NHPModel(256, device=device).to(device)\r\n",
        "DO_TRAIN = False\r\n",
        "if DO_TRAIN:\r\n",
        "\r\n",
        "    optimizer = torch.optim.Adam(model.parameters(), lr=0.001)\r\n",
        "    scheduler = torch.optim.lr_scheduler.ReduceLROnPlateau(optimizer, factor=0.5, threshold=0.001, patience=10, verbose=True)\r\n",
        "\r\n",
        "    statiscs = train(model, optimizer, train_loader, val_loader, device,scheduler=scheduler, \r\n",
        "                    n_epochs = 50, verbose_epoch=10, scale=None, save_path=None)\r\n",
        "\r\n",
        "else:\r\n",
        "    # load model trained only with LogLike loss\r\n",
        "    model.load_state_dict(torch.load('/content/mds20_deepfolio/models/NeuralHawkesProcess/weights/fin_dset.pth'))"
      ],
      "execution_count": 69,
      "outputs": []
    },
    {
      "cell_type": "code",
      "metadata": {
        "id": "7ga_I-PcNGWP"
      },
      "source": [
        "for event, time in test_loader:\r\n",
        "    for i in range(time.shape[0]):\r\n",
        "          \r\n",
        "        # Make prediction like it was suggested in the paper\r\n",
        "        times_gt, times_pred, types_gt, types_pred = predict_event(model, time[i,:], event[i,:], device)\r\n",
        "        acc.append([accuracy_score(types_gt, types_pred), mean_squared_error(times_gt, times_pred)])"
      ],
      "execution_count": 70,
      "outputs": []
    },
    {
      "cell_type": "code",
      "metadata": {
        "colab": {
          "base_uri": "https://localhost:8080/"
        },
        "id": "yPxXaxh7Q76-",
        "outputId": "b9e43dd5-b931-45ce-888a-456f2d0102c9"
      },
      "source": [
        "acc = np.array(acc)\r\n",
        "print('Type prediction accuracy:', acc[:,0].mean())\r\n",
        "print('Time prediction RMSE:', acc[:,1].mean()**0.5)"
      ],
      "execution_count": 76,
      "outputs": [
        {
          "output_type": "stream",
          "text": [
            "Type prediction accuracy: 0.5348678514532393\n",
            "Time prediction RMSE: 29.36444389052214\n"
          ],
          "name": "stdout"
        }
      ]
    }
  ]
}
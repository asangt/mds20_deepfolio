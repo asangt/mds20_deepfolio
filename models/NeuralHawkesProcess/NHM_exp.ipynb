{
  "nbformat": 4,
  "nbformat_minor": 0,
  "metadata": {
    "colab": {
      "name": "NHM_exp.ipynb",
      "provenance": []
    },
    "kernelspec": {
      "name": "python3",
      "display_name": "Python 3"
    },
    "accelerator": "GPU"
  },
  "cells": [
    {
      "cell_type": "code",
      "metadata": {
        "id": "4o46u_ggxY5c"
      },
      "source": [
        "import numpy as np\n",
        "import matplotlib.pyplot as plt\n",
        "import torch\n",
        "from torch import nn\n",
        "import torch.nn.functional as F\n",
        "from torch.utils.data import Dataset, DataLoader\n",
        "import pickle\n",
        "\n",
        "device = torch.device(\"cuda:0\" if torch.cuda.is_available() else \"cpu\")\n"
      ],
      "execution_count": 3,
      "outputs": []
    },
    {
      "cell_type": "code",
      "metadata": {
        "colab": {
          "base_uri": "https://localhost:8080/"
        },
        "id": "7zEnEKgLR95q",
        "outputId": "2f81ecba-76c9-427c-8e30-ac0f3cfce514"
      },
      "source": [
        "!git clone https://github.com/rodrigorivera/mds20_deepfolio"
      ],
      "execution_count": 4,
      "outputs": [
        {
          "output_type": "stream",
          "text": [
            "Cloning into 'mds20_deepfolio'...\n",
            "remote: Enumerating objects: 160, done.\u001b[K\n",
            "remote: Counting objects: 100% (160/160), done.\u001b[K\n",
            "remote: Compressing objects: 100% (155/155), done.\u001b[K\n",
            "remote: Total 357 (delta 106), reused 0 (delta 0), pack-reused 197\u001b[K\n",
            "Receiving objects: 100% (357/357), 19.36 MiB | 4.54 MiB/s, done.\n",
            "Resolving deltas: 100% (175/175), done.\n"
          ],
          "name": "stdout"
        }
      ]
    },
    {
      "cell_type": "code",
      "metadata": {
        "colab": {
          "base_uri": "https://localhost:8080/"
        },
        "id": "mS7lLmuJ2qIs",
        "outputId": "ec9189ae-86bb-4a8b-8401-e19f24d37ef1"
      },
      "source": [
        "from mds20_deepfolio.models.NeuralHawkesProcess.DataWrapper import NHPDataset\n",
        "from mds20_deepfolio.models.NeuralHawkesProcess.model import NHPModel\n",
        "from mds20_deepfolio.models.NeuralHawkesProcess.utils import LogLikelihoodLoss, evaluate_prediction\n",
        "from mds20_deepfolio.models.NeuralHawkesProcess.train import train, BeginningOfStream\n",
        "\n",
        "!unzip /content/mds20_deepfolio/models/NeuralHawkesProcess/data/fin_data.zip \\\n",
        "      -d /content/mds20_deepfolio/models/NeuralHawkesProcess/data/\n"
      ],
      "execution_count": 5,
      "outputs": [
        {
          "output_type": "stream",
          "text": [
            "Archive:  /content/mds20_deepfolio/models/NeuralHawkesProcess/data/fin_data.zip\n",
            "  inflating: /content/mds20_deepfolio/models/NeuralHawkesProcess/data/test.pkl  \n",
            "  inflating: /content/mds20_deepfolio/models/NeuralHawkesProcess/data/dev.pkl  \n",
            "  inflating: /content/mds20_deepfolio/models/NeuralHawkesProcess/data/train.pkl  \n"
          ],
          "name": "stdout"
        }
      ]
    },
    {
      "cell_type": "markdown",
      "metadata": {
        "id": "4MOVM1L_knzn"
      },
      "source": [
        "# **Create Datasets and Dataloaders**\n"
      ]
    },
    {
      "cell_type": "code",
      "metadata": {
        "colab": {
          "base_uri": "https://localhost:8080/"
        },
        "id": "cfoAZQJ33faN",
        "outputId": "d221aa21-2b88-4cea-9d5c-d0fbee33fefe"
      },
      "source": [
        "train_dataset = NHPDataset('/content/mds20_deepfolio/models/NeuralHawkesProcess/data/train.pkl')\n",
        "val_dataset = NHPDataset('/content/mds20_deepfolio/models/NeuralHawkesProcess/data/dev.pkl')\n",
        "test_dataset = NHPDataset('/content/mds20_deepfolio/models/NeuralHawkesProcess/data/test.pkl')\n",
        "\n",
        "train_loader = DataLoader(train_dataset, batch_size=12)\n",
        "val_loader = DataLoader(val_dataset, batch_size=12)\n",
        "test_loader = DataLoader(test_dataset, batch_size=12)\n",
        "\n",
        "print('lenght of train_dataset:', len(train_dataset))\n",
        "print('lenght of val_dataset:', len(val_dataset))\n",
        "print('lenght of test_dataset:', len(test_dataset))"
      ],
      "execution_count": 6,
      "outputs": [
        {
          "output_type": "stream",
          "text": [
            "lenght of train_dataset: 90\n",
            "lenght of val_dataset: 10\n",
            "lenght of test_dataset: 100\n"
          ],
          "name": "stdout"
        }
      ]
    },
    {
      "cell_type": "markdown",
      "metadata": {
        "id": "8VHmqVhpk0E0"
      },
      "source": [
        "# **Train model**"
      ]
    },
    {
      "cell_type": "code",
      "metadata": {
        "colab": {
          "base_uri": "https://localhost:8080/",
          "height": 1000
        },
        "id": "MM-bSAm95IBA",
        "outputId": "071e0f61-7427-4ce4-a521-4ac50f8e6510"
      },
      "source": [
        "model = NHPModel(256, device=device).to(device)\n",
        "optimizer = torch.optim.Adam(model.parameters(), lr=0.0005)\n",
        "criterion = LogLikelihoodLoss(device=device)\n",
        "\n",
        "loss_history, time_mse_error_history, type_accuracy_history = train(model, optimizer, criterion, \n",
        "                                                                    train_loader, val_loader, device, n_epochs = 50)"
      ],
      "execution_count": 22,
      "outputs": [
        {
          "output_type": "stream",
          "text": [
            "Epoch: 0\n",
            "train_log_likelihood: tensor(-2.1140) val_log_likelihood tensor(-1.1503)\n",
            "time: 65.17520141601562\n",
            "------------------------------------------------------------\n",
            "Epoch: 1\n",
            "train_log_likelihood: tensor(-1.9764) val_log_likelihood tensor(-1.3063)\n",
            "time: 131.0925657749176\n",
            "------------------------------------------------------------\n",
            "Epoch: 2\n",
            "train_log_likelihood: tensor(-1.9572) val_log_likelihood tensor(-1.3607)\n",
            "time: 197.01465106010437\n",
            "------------------------------------------------------------\n",
            "Epoch: 3\n",
            "train_log_likelihood: tensor(-1.9511) val_log_likelihood tensor(-1.3349)\n",
            "time: 262.60889291763306\n",
            "------------------------------------------------------------\n",
            "Epoch: 4\n",
            "train_log_likelihood: tensor(-1.9454) val_log_likelihood tensor(-1.2988)\n",
            "time: 327.90917348861694\n",
            "------------------------------------------------------------\n",
            "Epoch: 5\n",
            "train_log_likelihood: tensor(-1.9448) val_log_likelihood tensor(-1.2806)\n",
            "time: 393.503924369812\n",
            "------------------------------------------------------------\n",
            "Epoch: 6\n",
            "train_log_likelihood: tensor(-1.9465) val_log_likelihood tensor(-1.2784)\n",
            "time: 459.0846993923187\n",
            "------------------------------------------------------------\n",
            "Epoch: 7\n",
            "train_log_likelihood: tensor(-1.9475) val_log_likelihood tensor(-1.2838)\n",
            "time: 524.4586179256439\n",
            "------------------------------------------------------------\n",
            "Epoch: 8\n",
            "train_log_likelihood: tensor(-1.9476) val_log_likelihood tensor(-1.2901)\n",
            "time: 590.135425567627\n",
            "------------------------------------------------------------\n",
            "Epoch: 9\n",
            "train_log_likelihood: tensor(-1.9473) val_log_likelihood tensor(-1.2932)\n",
            "time: 655.6574528217316\n",
            "------------------------------------------------------------\n",
            "Epoch: 10\n",
            "train_log_likelihood: tensor(-1.9470) val_log_likelihood tensor(-1.2931)\n",
            "time: 721.3613209724426\n",
            "------------------------------------------------------------\n",
            "Epoch: 11\n",
            "train_log_likelihood: tensor(-1.9468) val_log_likelihood tensor(-1.2916)\n",
            "time: 787.0834224224091\n",
            "------------------------------------------------------------\n",
            "Epoch: 12\n",
            "train_log_likelihood: tensor(-1.9468) val_log_likelihood tensor(-1.2905)\n",
            "time: 852.7819356918335\n",
            "------------------------------------------------------------\n",
            "Epoch: 13\n",
            "train_log_likelihood: tensor(-1.9469) val_log_likelihood tensor(-1.2901)\n",
            "time: 918.9567375183105\n",
            "------------------------------------------------------------\n",
            "Epoch: 14\n",
            "train_log_likelihood: tensor(-1.9470) val_log_likelihood tensor(-1.2903)\n",
            "time: 985.4745149612427\n",
            "------------------------------------------------------------\n",
            "Epoch: 15\n",
            "train_log_likelihood: tensor(-1.9470) val_log_likelihood tensor(-1.2906)\n",
            "time: 1051.2499914169312\n",
            "------------------------------------------------------------\n",
            "Epoch: 16\n",
            "train_log_likelihood: tensor(-1.9470) val_log_likelihood tensor(-1.2908)\n",
            "time: 1117.1726253032684\n",
            "------------------------------------------------------------\n",
            "Epoch: 17\n",
            "train_log_likelihood: tensor(-1.9470) val_log_likelihood tensor(-1.2909)\n",
            "time: 1183.0455017089844\n",
            "------------------------------------------------------------\n",
            "Epoch: 18\n",
            "train_log_likelihood: tensor(-1.9470) val_log_likelihood tensor(-1.2908)\n",
            "time: 1249.059856414795\n",
            "------------------------------------------------------------\n",
            "Epoch: 19\n",
            "train_log_likelihood: tensor(-1.9470) val_log_likelihood tensor(-1.2908)\n",
            "time: 1315.21622133255\n",
            "------------------------------------------------------------\n",
            "Epoch: 20\n",
            "train_log_likelihood: tensor(-1.9469) val_log_likelihood tensor(-1.2908)\n",
            "time: 1381.005200624466\n",
            "------------------------------------------------------------\n",
            "Epoch: 21\n",
            "train_log_likelihood: tensor(-1.9469) val_log_likelihood tensor(-1.2908)\n",
            "time: 1446.778968334198\n",
            "------------------------------------------------------------\n",
            "Epoch: 22\n",
            "train_log_likelihood: tensor(-1.9469) val_log_likelihood tensor(-1.2908)\n",
            "time: 1512.6906628608704\n",
            "------------------------------------------------------------\n",
            "Epoch: 23\n",
            "train_log_likelihood: tensor(-1.9469) val_log_likelihood tensor(-1.2908)\n",
            "time: 1578.6725981235504\n",
            "------------------------------------------------------------\n",
            "Epoch: 24\n",
            "train_log_likelihood: tensor(-1.9469) val_log_likelihood tensor(-1.2909)\n",
            "time: 1644.6860916614532\n",
            "------------------------------------------------------------\n",
            "Epoch: 25\n",
            "train_log_likelihood: tensor(-1.9469) val_log_likelihood tensor(-1.2909)\n",
            "time: 1710.4055926799774\n",
            "------------------------------------------------------------\n",
            "Epoch: 26\n",
            "train_log_likelihood: tensor(-1.9469) val_log_likelihood tensor(-1.2909)\n",
            "time: 1776.3917889595032\n",
            "------------------------------------------------------------\n",
            "Epoch: 27\n",
            "train_log_likelihood: tensor(-1.9469) val_log_likelihood tensor(-1.2909)\n",
            "time: 1842.3708209991455\n",
            "------------------------------------------------------------\n",
            "Epoch: 28\n",
            "train_log_likelihood: tensor(-1.9469) val_log_likelihood tensor(-1.2909)\n",
            "time: 1908.493038892746\n",
            "------------------------------------------------------------\n",
            "Epoch: 29\n",
            "train_log_likelihood: tensor(-1.9469) val_log_likelihood tensor(-1.2909)\n",
            "time: 1974.5857260227203\n",
            "------------------------------------------------------------\n",
            "Epoch: 30\n",
            "train_log_likelihood: tensor(-1.9468) val_log_likelihood tensor(-1.2909)\n",
            "time: 2040.6271712779999\n",
            "------------------------------------------------------------\n",
            "Epoch: 31\n",
            "train_log_likelihood: tensor(-1.9468) val_log_likelihood tensor(-1.2910)\n",
            "time: 2106.579505443573\n",
            "------------------------------------------------------------\n",
            "Epoch: 32\n",
            "train_log_likelihood: tensor(-1.9468) val_log_likelihood tensor(-1.2910)\n",
            "time: 2172.6343030929565\n",
            "------------------------------------------------------------\n",
            "Epoch: 33\n",
            "train_log_likelihood: tensor(-1.9468) val_log_likelihood tensor(-1.2910)\n",
            "time: 2238.646237850189\n",
            "------------------------------------------------------------\n",
            "Epoch: 34\n",
            "train_log_likelihood: tensor(-1.9468) val_log_likelihood tensor(-1.2910)\n",
            "time: 2304.643473148346\n",
            "------------------------------------------------------------\n",
            "Epoch: 35\n",
            "train_log_likelihood: tensor(-1.9468) val_log_likelihood tensor(-1.2910)\n",
            "time: 2370.530352115631\n",
            "------------------------------------------------------------\n",
            "Epoch: 36\n",
            "train_log_likelihood: tensor(-1.9468) val_log_likelihood tensor(-1.2910)\n",
            "time: 2436.467981815338\n",
            "------------------------------------------------------------\n",
            "Epoch: 37\n",
            "train_log_likelihood: tensor(-1.9468) val_log_likelihood tensor(-1.2910)\n",
            "time: 2502.5407767295837\n",
            "------------------------------------------------------------\n",
            "Epoch: 38\n",
            "train_log_likelihood: tensor(-1.9467) val_log_likelihood tensor(-1.2911)\n",
            "time: 2568.600677251816\n",
            "------------------------------------------------------------\n",
            "Epoch: 39\n",
            "train_log_likelihood: tensor(-1.9467) val_log_likelihood tensor(-1.2911)\n",
            "time: 2634.756592988968\n",
            "------------------------------------------------------------\n",
            "Epoch: 40\n",
            "train_log_likelihood: tensor(-1.9467) val_log_likelihood tensor(-1.2911)\n",
            "time: 2700.958528995514\n",
            "------------------------------------------------------------\n",
            "Epoch: 41\n",
            "train_log_likelihood: tensor(-1.9467) val_log_likelihood tensor(-1.2911)\n",
            "time: 2767.0762264728546\n",
            "------------------------------------------------------------\n"
          ],
          "name": "stdout"
        },
        {
          "output_type": "error",
          "ename": "KeyboardInterrupt",
          "evalue": "ignored",
          "traceback": [
            "\u001b[0;31m---------------------------------------------------------------------------\u001b[0m",
            "\u001b[0;31mKeyboardInterrupt\u001b[0m                         Traceback (most recent call last)",
            "\u001b[0;32m<ipython-input-22-68facafe029a>\u001b[0m in \u001b[0;36m<module>\u001b[0;34m()\u001b[0m\n\u001b[1;32m      4\u001b[0m \u001b[0;34m\u001b[0m\u001b[0m\n\u001b[1;32m      5\u001b[0m loss_history, time_mse_error_history, type_accuracy_history = train(model, optimizer, criterion, \n\u001b[0;32m----> 6\u001b[0;31m                                                                     train_loader, val_loader, device, n_epochs = 50)\n\u001b[0m",
            "\u001b[0;32m/content/mds20_deepfolio/models/NeuralHawkesProcess/train.py\u001b[0m in \u001b[0;36mtrain\u001b[0;34m(model, optimizer, criterion, train_loader, val_loader, device, n_epochs, eval_pred, save_path)\u001b[0m\n\u001b[1;32m     58\u001b[0m     \u001b[0;32mfor\u001b[0m \u001b[0mepoch\u001b[0m \u001b[0;32min\u001b[0m \u001b[0mrange\u001b[0m\u001b[0;34m(\u001b[0m\u001b[0mn_epochs\u001b[0m\u001b[0;34m)\u001b[0m\u001b[0;34m:\u001b[0m\u001b[0;34m\u001b[0m\u001b[0;34m\u001b[0m\u001b[0m\n\u001b[1;32m     59\u001b[0m \u001b[0;34m\u001b[0m\u001b[0m\n\u001b[0;32m---> 60\u001b[0;31m         \u001b[0mtrain_loss\u001b[0m \u001b[0;34m=\u001b[0m \u001b[0mrun_epoch\u001b[0m\u001b[0;34m(\u001b[0m\u001b[0mmodel\u001b[0m\u001b[0;34m,\u001b[0m \u001b[0moptimizer\u001b[0m\u001b[0;34m,\u001b[0m \u001b[0mcriterion\u001b[0m\u001b[0;34m,\u001b[0m \u001b[0mtrain_loader\u001b[0m\u001b[0;34m,\u001b[0m \u001b[0mdevice\u001b[0m\u001b[0;34m,\u001b[0m \u001b[0mmode\u001b[0m \u001b[0;34m=\u001b[0m \u001b[0;34m'train'\u001b[0m\u001b[0;34m)\u001b[0m\u001b[0;34m\u001b[0m\u001b[0;34m\u001b[0m\u001b[0m\n\u001b[0m\u001b[1;32m     61\u001b[0m         \u001b[0mval_loss\u001b[0m \u001b[0;34m=\u001b[0m \u001b[0mrun_epoch\u001b[0m\u001b[0;34m(\u001b[0m\u001b[0mmodel\u001b[0m\u001b[0;34m,\u001b[0m \u001b[0;32mNone\u001b[0m\u001b[0;34m,\u001b[0m \u001b[0mcriterion\u001b[0m\u001b[0;34m,\u001b[0m \u001b[0mval_loader\u001b[0m\u001b[0;34m,\u001b[0m \u001b[0mdevice\u001b[0m\u001b[0;34m,\u001b[0m \u001b[0mmode\u001b[0m \u001b[0;34m=\u001b[0m \u001b[0;34m'val'\u001b[0m\u001b[0;34m)\u001b[0m\u001b[0;34m\u001b[0m\u001b[0;34m\u001b[0m\u001b[0m\n\u001b[1;32m     62\u001b[0m \u001b[0;34m\u001b[0m\u001b[0m\n",
            "\u001b[0;32m/content/mds20_deepfolio/models/NeuralHawkesProcess/train.py\u001b[0m in \u001b[0;36mrun_epoch\u001b[0;34m(model, optimizer, criterion, dataloader, device, mode)\u001b[0m\n\u001b[1;32m     38\u001b[0m             \u001b[0;32mif\u001b[0m \u001b[0mis_train\u001b[0m\u001b[0;34m:\u001b[0m\u001b[0;34m\u001b[0m\u001b[0;34m\u001b[0m\u001b[0m\n\u001b[1;32m     39\u001b[0m                 \u001b[0moptimizer\u001b[0m\u001b[0;34m.\u001b[0m\u001b[0mzero_grad\u001b[0m\u001b[0;34m(\u001b[0m\u001b[0;34m)\u001b[0m\u001b[0;34m\u001b[0m\u001b[0;34m\u001b[0m\u001b[0m\n\u001b[0;32m---> 40\u001b[0;31m                 \u001b[0mloss\u001b[0m\u001b[0;34m.\u001b[0m\u001b[0mbackward\u001b[0m\u001b[0;34m(\u001b[0m\u001b[0;34m)\u001b[0m\u001b[0;34m\u001b[0m\u001b[0;34m\u001b[0m\u001b[0m\n\u001b[0m\u001b[1;32m     41\u001b[0m                 \u001b[0moptimizer\u001b[0m\u001b[0;34m.\u001b[0m\u001b[0mstep\u001b[0m\u001b[0;34m(\u001b[0m\u001b[0;34m)\u001b[0m\u001b[0;34m\u001b[0m\u001b[0;34m\u001b[0m\u001b[0m\n\u001b[1;32m     42\u001b[0m \u001b[0;34m\u001b[0m\u001b[0m\n",
            "\u001b[0;32m/usr/local/lib/python3.6/dist-packages/torch/tensor.py\u001b[0m in \u001b[0;36mbackward\u001b[0;34m(self, gradient, retain_graph, create_graph)\u001b[0m\n\u001b[1;32m    219\u001b[0m                 \u001b[0mretain_graph\u001b[0m\u001b[0;34m=\u001b[0m\u001b[0mretain_graph\u001b[0m\u001b[0;34m,\u001b[0m\u001b[0;34m\u001b[0m\u001b[0;34m\u001b[0m\u001b[0m\n\u001b[1;32m    220\u001b[0m                 create_graph=create_graph)\n\u001b[0;32m--> 221\u001b[0;31m         \u001b[0mtorch\u001b[0m\u001b[0;34m.\u001b[0m\u001b[0mautograd\u001b[0m\u001b[0;34m.\u001b[0m\u001b[0mbackward\u001b[0m\u001b[0;34m(\u001b[0m\u001b[0mself\u001b[0m\u001b[0;34m,\u001b[0m \u001b[0mgradient\u001b[0m\u001b[0;34m,\u001b[0m \u001b[0mretain_graph\u001b[0m\u001b[0;34m,\u001b[0m \u001b[0mcreate_graph\u001b[0m\u001b[0;34m)\u001b[0m\u001b[0;34m\u001b[0m\u001b[0;34m\u001b[0m\u001b[0m\n\u001b[0m\u001b[1;32m    222\u001b[0m \u001b[0;34m\u001b[0m\u001b[0m\n\u001b[1;32m    223\u001b[0m     \u001b[0;32mdef\u001b[0m \u001b[0mregister_hook\u001b[0m\u001b[0;34m(\u001b[0m\u001b[0mself\u001b[0m\u001b[0;34m,\u001b[0m \u001b[0mhook\u001b[0m\u001b[0;34m)\u001b[0m\u001b[0;34m:\u001b[0m\u001b[0;34m\u001b[0m\u001b[0;34m\u001b[0m\u001b[0m\n",
            "\u001b[0;32m/usr/local/lib/python3.6/dist-packages/torch/autograd/__init__.py\u001b[0m in \u001b[0;36mbackward\u001b[0;34m(tensors, grad_tensors, retain_graph, create_graph, grad_variables)\u001b[0m\n\u001b[1;32m    130\u001b[0m     Variable._execution_engine.run_backward(\n\u001b[1;32m    131\u001b[0m         \u001b[0mtensors\u001b[0m\u001b[0;34m,\u001b[0m \u001b[0mgrad_tensors_\u001b[0m\u001b[0;34m,\u001b[0m \u001b[0mretain_graph\u001b[0m\u001b[0;34m,\u001b[0m \u001b[0mcreate_graph\u001b[0m\u001b[0;34m,\u001b[0m\u001b[0;34m\u001b[0m\u001b[0;34m\u001b[0m\u001b[0m\n\u001b[0;32m--> 132\u001b[0;31m         allow_unreachable=True)  # allow_unreachable flag\n\u001b[0m\u001b[1;32m    133\u001b[0m \u001b[0;34m\u001b[0m\u001b[0m\n\u001b[1;32m    134\u001b[0m \u001b[0;34m\u001b[0m\u001b[0m\n",
            "\u001b[0;31mKeyboardInterrupt\u001b[0m: "
          ]
        }
      ]
    },
    {
      "cell_type": "markdown",
      "metadata": {
        "id": "bWiMDLpVk4yW"
      },
      "source": [
        "# **Load pretrain model**"
      ]
    },
    {
      "cell_type": "code",
      "metadata": {
        "id": "mmdtYDpSk7n0"
      },
      "source": [
        "model = NHPModel(256, device)\n",
        "model.load_state_dict(torch.load('/content/mds20_deepfolio/models/NeuralHawkesProcess/weights/NHP,256h,lre-4.pth'))\n",
        "model = model.to(device) "
      ],
      "execution_count": 7,
      "outputs": []
    },
    {
      "cell_type": "markdown",
      "metadata": {
        "id": "Ti4I2Q0MllDc"
      },
      "source": [
        "# **Predict next event type and time**"
      ]
    },
    {
      "cell_type": "code",
      "metadata": {
        "colab": {
          "base_uri": "https://localhost:8080/"
        },
        "id": "fNZvqMeNlsN7",
        "outputId": "ed850541-4199-4a90-92db-4d01049e21d9"
      },
      "source": [
        "# First predict last event of some sequence form val dataset\n",
        "from mds20_deepfolio.models.NeuralHawkesProcess.utils import predict_event\n",
        "\n",
        "for x in val_loader:\n",
        "    sample = x\n",
        "    break\n",
        "\n",
        "event_seqs, time_seqs, total_time_seqs, seqs_length = BeginningOfStream(sample, model.type_size)\n",
        "\n",
        "# Select 0 sequence\n",
        "seq = event_seqs[0]\n",
        "time = time_seqs[0] \n",
        "lenght = seqs_length[0]\n",
        "\n",
        "# Make pred\n",
        "time_gt, time_pred, type_gt, type_pred, dt, intensity = predict_event(model,time,seq,lenght, device)\n",
        "print('Next event type gt: ', type_gt, ', next event type pred: ', type_pred)\n",
        "print('Next event time gt: ', time_gt, ', next event time pred: ', time_pred)"
      ],
      "execution_count": 23,
      "outputs": [
        {
          "output_type": "stream",
          "text": [
            "Next event type gt:  1 , next event type pred:  1\n",
            "Next event time gt:  0.94160646 , next event time pred:  0.7833252\n"
          ],
          "name": "stdout"
        }
      ]
    },
    {
      "cell_type": "code",
      "metadata": {
        "colab": {
          "base_uri": "https://localhost:8080/"
        },
        "id": "zIwHriFZFXh2",
        "outputId": "70337f39-2cee-4eee-8b0f-2546b3eb1dc9"
      },
      "source": [
        "print('Event prediction correct? ->', type_gt==type_pred)\n",
        "print('Error of time estimation', abs(time_pred - time_gt) /time_gt)"
      ],
      "execution_count": 43,
      "outputs": [
        {
          "output_type": "stream",
          "text": [
            "Event prediction correct? -> True\n",
            "Error of time estimation 0.16809705\n"
          ],
          "name": "stdout"
        }
      ]
    },
    {
      "cell_type": "code",
      "metadata": {
        "colab": {
          "base_uri": "https://localhost:8080/",
          "height": 298
        },
        "id": "SgOEzppQFDvk",
        "outputId": "ac583ffd-95e6-490d-a494-d27aa137d03b"
      },
      "source": [
        "# Also we can plot some plots with intensity\n",
        "\n",
        "plt.plot(dt, intensity[:,0], c = 'b', label='type_0')\n",
        "plt.plot(dt, intensity[:,1], c ='r', label='type_1')\n",
        "\n",
        "plt.vlines(time_pred, 0,1,linestyle='--', linewidth=.7, color='red',\n",
        "                   label=r'pred $\\hat{t}_i - t_{i-1}$')\n",
        "\n",
        "plt.vlines(time_gt, 0,1,linestyle='--', linewidth=.7, color='b',\n",
        "                   label=r'gt $\\hat{t}_i - t_{i-1}$')\n",
        "plt.ylim(0.3,0.7)\n",
        "plt.xlim(0,5)\n",
        "plt.legend(fontsize=12)\n",
        "plt.xlabel('time', size=12)\n",
        "plt.ylabel('intensity $\\lambda(t_i)$', size=12)\n",
        "plt.title('Intensity after last event')\n",
        "plt.show()"
      ],
      "execution_count": 9,
      "outputs": [
        {
          "output_type": "display_data",
          "data": {
            "image/png": "[encoded data removed]",
            "text/plain": [
              "<Figure size 432x288 with 1 Axes>"
            ]
          },
          "metadata": {
            "tags": [],
            "needs_background": "light"
          }
        }
      ]
    },
    {
      "cell_type": "code",
      "metadata": {
        "id": "cznr8GjAcNdr"
      },
      "source": [
        "# Evaluate model on the whole test set\n",
        "\n",
        "time_mse_error_test, type_accuracy_test = evaluate_prediction(model, test_loader,device)"
      ],
      "execution_count": 26,
      "outputs": []
    },
    {
      "cell_type": "code",
      "metadata": {
        "colab": {
          "base_uri": "https://localhost:8080/"
        },
        "id": "_omraeYbe121",
        "outputId": "7dec84d7-8e90-465a-c7ad-86b444084ef0"
      },
      "source": [
        "print('Mean MSE error of time estimation: ', time_mse_error_test)\n",
        "print('Event type prediction accuracy: ', type_accuracy_test)"
      ],
      "execution_count": 28,
      "outputs": [
        {
          "output_type": "stream",
          "text": [
            "Mean MSE error of time estimation:  20.438137580788595\n",
            "Event type prediction accuracy:  0.58\n"
          ],
          "name": "stdout"
        }
      ]
    }
  ]
}
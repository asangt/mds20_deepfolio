{
  "nbformat": 4,
  "nbformat_minor": 0,
  "metadata": {
    "colab": {
      "name": "NHP_transfer.ipynb",
      "provenance": [],
      "machine_shape": "hm"
    },
    "kernelspec": {
      "name": "python3",
      "display_name": "Python 3"
    },
    "accelerator": "GPU"
  },
  "cells": [
    {
      "cell_type": "code",
      "metadata": {
        "id": "1yzMH-mjkbhk",
        "colab": {
          "base_uri": "https://localhost:8080/"
        },
        "outputId": "4ae716b4-5176-4545-f2ef-8357de188df1"
      },
      "source": [
        "import numpy as np\r\n",
        "import torch\r\n",
        "from torch.utils.data import DataLoader\r\n",
        "device = torch.device(\"cuda:0\" if torch.cuda.is_available() else \"cpu\")\r\n",
        "\r\n",
        "!git clone https://github.com/rodrigorivera/mds20_deepfolio\r\n",
        "from mds20_deepfolio.models.NeuralHawkesProcess.DataWrapper import LOBDataset, collate_fn\r\n",
        "from mds20_deepfolio.models.NeuralHawkesProcess.model import NHPModel"
      ],
      "execution_count": 3,
      "outputs": [
        {
          "output_type": "stream",
          "text": [
            "fatal: destination path 'mds20_deepfolio' already exists and is not an empty directory.\n"
          ],
          "name": "stdout"
        }
      ]
    },
    {
      "cell_type": "code",
      "metadata": {
        "id": "m6vy41_zpaYX",
        "colab": {
          "base_uri": "https://localhost:8080/"
        },
        "outputId": "edaaec16-c05c-4cbb-9769-196ffdb2731b"
      },
      "source": [
        "XLM_dataset = LOBDataset(np.load('/content/mds20_deepfolio/datasets/data/transfer/XLM.npy'))\r\n",
        "XLM_loader = DataLoader(XLM_dataset, batch_size=12, collate_fn=collate_fn)\r\n",
        "\r\n",
        "len(XLM_dataset)"
      ],
      "execution_count": 4,
      "outputs": [
        {
          "output_type": "execute_result",
          "data": {
            "text/plain": [
              "65"
            ]
          },
          "metadata": {
            "tags": []
          },
          "execution_count": 4
        }
      ]
    },
    {
      "cell_type": "code",
      "metadata": {
        "id": "t2BWa__ACGU9"
      },
      "source": [
        "from sklearn.metrics import accuracy_score\r\n",
        "model = NHPModel(256, device=device).to(device)\r\n",
        "model.load_state_dict(torch.load('/content/mds20_deepfolio/models/NeuralHawkesProcess/weights/NHP,all,256.pth'))\r\n",
        "\r\n",
        "loss_time, type_acc,loss_llh,loss_event = 0, 0, 0, 0\r\n",
        "for event_seq, time_seq in XLM_loader:\r\n",
        "\r\n",
        "        event_seq = event_seq.to(device)\r\n",
        "        time_seq = time_seq.to(device)\r\n",
        "        \r\n",
        "        intens, time, event = model.forward(event_seq, time_seq)\r\n",
        "\r\n",
        "        loss_llh += (model.LogLikelihoodLoss(intens, time_seq) / (time_seq.shape[0] * time_seq.shape[1])).detach().cpu().numpy()\r\n",
        "        loss_time += model.time_loss(time, time_seq).detach().cpu().numpy()\r\n",
        "        loss_event += model.event_loss(event, event_seq).detach().cpu().numpy()\r\n",
        "        type_acc += accuracy_score(event[:,:-1].argmax(dim=2).cpu().reshape(-1), \r\n",
        "                                                      event_seq[:, 1:].cpu().reshape(-1))\r\n",
        "        \r\n"
      ],
      "execution_count": 6,
      "outputs": []
    },
    {
      "cell_type": "code",
      "metadata": {
        "colab": {
          "base_uri": "https://localhost:8080/"
        },
        "id": "a7yXJ2dnJlvm",
        "outputId": "dcc276c1-90ba-4b9c-a95e-8805d13aa1ba"
      },
      "source": [
        "print('LogLike score:', -loss_llh/len(XLM_loader))\r\n",
        "print('Time RMSE score:', loss_time/len(XLM_loader)**0.5)\r\n",
        "print('Type prediction accuracy:', type_acc/len(XLM_loader))"
      ],
      "execution_count": 8,
      "outputs": [
        {
          "output_type": "stream",
          "text": [
            "LogLike score: -15.231625398000082\n",
            "Time RMSE score: 53781.01114502642\n",
            "Type prediction accuracy: 0.7039083333333332\n"
          ],
          "name": "stdout"
        }
      ]
    }
  ]
}
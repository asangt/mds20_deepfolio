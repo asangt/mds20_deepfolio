{
  "nbformat": 4,
  "nbformat_minor": 0,
  "metadata": {
    "colab": {
      "name": "NHP_transfer.ipynb",
      "provenance": [],
      "machine_shape": "hm"
    },
    "kernelspec": {
      "name": "python3",
      "display_name": "Python 3"
    },
    "accelerator": "GPU"
  },
  "cells": [
    {
      "cell_type": "code",
      "metadata": {
        "id": "1yzMH-mjkbhk",
        "colab": {
          "base_uri": "https://localhost:8080/"
        },
        "outputId": "0943727e-4a1d-48a7-85cf-cd50b991b9ca"
      },
      "source": [
        "import numpy as np\r\n",
        "import torch\r\n",
        "from torch.utils.data import DataLoader\r\n",
        "device = torch.device(\"cuda:0\" if torch.cuda.is_available() else \"cpu\")\r\n",
        "\r\n",
        "!git clone https://github.com/rodrigorivera/mds20_deepfolio\r\n",
        "from mds20_deepfolio.models.NeuralHawkesProcess.DataWrapper import LOBDataset, collate_fn\r\n",
        "from mds20_deepfolio.models.NeuralHawkesProcess.train import train, run_epoch\r\n",
        "from mds20_deepfolio.models.NeuralHawkesProcess.model import NHPModel\r\n"
      ],
      "execution_count": 14,
      "outputs": [
        {
          "output_type": "stream",
          "text": [
            "fatal: destination path 'mds20_deepfolio' already exists and is not an empty directory.\n"
          ],
          "name": "stdout"
        }
      ]
    },
    {
      "cell_type": "code",
      "metadata": {
        "colab": {
          "base_uri": "https://localhost:8080/"
        },
        "id": "_IYJmNcosiFQ",
        "outputId": "6b65a4c7-b9f7-412b-8133-d77665a3d79b"
      },
      "source": [
        "XLM_dataset = LOBDataset(np.load('/content/mds20_deepfolio/datasets/data/transfer/XLM.npy'))\r\n",
        "XLM_loader = DataLoader(XLM_dataset, batch_size=12, collate_fn=collate_fn)\r\n",
        "\r\n",
        "model = NHPModel(256, device=device).to(device)\r\n",
        "model.load_state_dict(torch.load('/content/mds20_deepfolio/models/NeuralHawkesProcess/weights/NHP,all,256.pth'))\r\n",
        "\r\n",
        "len(XLM_dataset)"
      ],
      "execution_count": 36,
      "outputs": [
        {
          "output_type": "execute_result",
          "data": {
            "text/plain": [
              "65"
            ]
          },
          "metadata": {
            "tags": []
          },
          "execution_count": 36
        }
      ]
    },
    {
      "cell_type": "code",
      "metadata": {
        "id": "gi77Vn1Usjss"
      },
      "source": [
        "llh, mse, ce, acc = run_epoch(model, None, XLM_loader, device, scale=0.001)"
      ],
      "execution_count": 37,
      "outputs": []
    },
    {
      "cell_type": "code",
      "metadata": {
        "colab": {
          "base_uri": "https://localhost:8080/"
        },
        "id": "zoUSFB6wtc0V",
        "outputId": "9aa5f52e-ab8d-43b2-8de4-9011708c0e96"
      },
      "source": [
        "print('LogLike score:', -llh)\r\n",
        "print('Time RMSE score:', mse**0.5)\r\n",
        "print('Type prediction accuracy:', acc)"
      ],
      "execution_count": 39,
      "outputs": [
        {
          "output_type": "stream",
          "text": [
            "LogLike score: -15.425869501832722\n",
            "Time RMSE score: 148.17559130766105\n",
            "Type prediction accuracy: 0.7039083333333332\n"
          ],
          "name": "stdout"
        }
      ]
    }
  ]
}